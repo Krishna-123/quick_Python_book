{
 "cells": [
  {
   "cell_type": "code",
   "execution_count": 1,
   "id": "df0a0cc5",
   "metadata": {},
   "outputs": [
    {
     "data": {
      "text/plain": [
       "'xxxxxxxx'"
      ]
     },
     "execution_count": 1,
     "metadata": {},
     "output_type": "execute_result"
    }
   ],
   "source": [
    "\"x\" * 8"
   ]
  },
  {
   "cell_type": "code",
   "execution_count": 3,
   "id": "25a4b7e5",
   "metadata": {},
   "outputs": [
    {
     "data": {
      "text/plain": [
       "'a\\n\\tb'"
      ]
     },
     "execution_count": 3,
     "metadata": {},
     "output_type": "execute_result"
    }
   ],
   "source": [
    "'a\\n\\tb'"
   ]
  },
  {
   "cell_type": "code",
   "execution_count": 4,
   "id": "1f229a29",
   "metadata": {},
   "outputs": [
    {
     "name": "stdout",
     "output_type": "stream",
     "text": [
      "a\n",
      "\tb\n"
     ]
    }
   ],
   "source": [
    "print('a\\n\\tb')"
   ]
  },
  {
   "cell_type": "markdown",
   "id": "e54cb15a",
   "metadata": {},
   "source": [
    "### commonly used string methods\n",
    "-- split and join"
   ]
  },
  {
   "cell_type": "code",
   "execution_count": 5,
   "id": "30e1640e",
   "metadata": {},
   "outputs": [
    {
     "data": {
      "text/plain": [
       "'join put spaces between these lists'"
      ]
     },
     "execution_count": 5,
     "metadata": {},
     "output_type": "execute_result"
    }
   ],
   "source": [
    "\" \".join ([\"join\", \"put\", \"spaces\", \"between\", \"these\", \"lists\"])"
   ]
  },
  {
   "cell_type": "code",
   "execution_count": 6,
   "id": "45e39b40",
   "metadata": {},
   "outputs": [
    {
     "data": {
      "text/plain": [
       "'join,put,spaces,between,these,lists'"
      ]
     },
     "execution_count": 6,
     "metadata": {},
     "output_type": "execute_result"
    }
   ],
   "source": [
    "\",\".join ([\"join\", \"put\", \"spaces\", \"between\", \"these\", \"lists\"])"
   ]
  },
  {
   "cell_type": "code",
   "execution_count": 9,
   "id": "3f264071",
   "metadata": {},
   "outputs": [
    {
     "name": "stdout",
     "output_type": "stream",
     "text": [
      "['a', 'b', 'c', 'd']\n",
      "['a', 'b c d']\n"
     ]
    }
   ],
   "source": [
    "# new part \n",
    "#  on split we can specify to what extent splits should split the joined string using 02nd optional argument\n",
    "x = 'a b c d'\n",
    "print(x.split())\n",
    "print(x.split(None, 1)) # we externaly specified how many splits to perform\n",
    "# if the number of splits are more than length of string than it perfrom the spliting over the complete string"
   ]
  },
  {
   "cell_type": "markdown",
   "id": "e2965fb2",
   "metadata": {},
   "source": [
    "### Exercise :- use split and join to perform changing :- \n",
    "\"this is a test\" to \"this-is-a-test\""
   ]
  },
  {
   "cell_type": "code",
   "execution_count": 10,
   "id": "f5613a8f",
   "metadata": {},
   "outputs": [
    {
     "data": {
      "text/plain": [
       "'this-is-a-test'"
      ]
     },
     "execution_count": 10,
     "metadata": {},
     "output_type": "execute_result"
    }
   ],
   "source": [
    "str = \"this is a test\"\n",
    "\"-\".join(str.split(None))"
   ]
  },
  {
   "cell_type": "code",
   "execution_count": 27,
   "id": "7b501f79",
   "metadata": {},
   "outputs": [
    {
     "data": {
      "text/plain": [
       "16"
      ]
     },
     "execution_count": 27,
     "metadata": {},
     "output_type": "execute_result"
    }
   ],
   "source": [
    "int('G', 17)"
   ]
  },
  {
   "cell_type": "code",
   "execution_count": 32,
   "id": "1b7f1844",
   "metadata": {},
   "outputs": [
    {
     "data": {
      "text/plain": [
       "1.2345678901234567e+19"
      ]
     },
     "execution_count": 32,
     "metadata": {},
     "output_type": "execute_result"
    }
   ],
   "source": [
    "# exercise on coverting string to int or float\n",
    "# int('a1')  # error a is char\n",
    "# int('12G', 16) # error G is not included for base-16\n",
    "float(\"12345678901234567890\") \n",
    "# int(\"12*2\") # error as * is char"
   ]
  },
  {
   "cell_type": "code",
   "execution_count": null,
   "id": "443c9dd1",
   "metadata": {},
   "outputs": [],
   "source": []
  }
 ],
 "metadata": {
  "kernelspec": {
   "display_name": "Python 3",
   "language": "python",
   "name": "python3"
  },
  "language_info": {
   "codemirror_mode": {
    "name": "ipython",
    "version": 3
   },
   "file_extension": ".py",
   "mimetype": "text/x-python",
   "name": "python",
   "nbconvert_exporter": "python",
   "pygments_lexer": "ipython3",
   "version": "3.6.9"
  }
 },
 "nbformat": 4,
 "nbformat_minor": 5
}
