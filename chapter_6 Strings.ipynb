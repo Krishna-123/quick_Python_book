{
 "cells": [
  {
   "cell_type": "code",
   "execution_count": 1,
   "id": "dd2891a6",
   "metadata": {},
   "outputs": [
    {
     "data": {
      "text/plain": [
       "'xxxxxxxx'"
      ]
     },
     "execution_count": 1,
     "metadata": {},
     "output_type": "execute_result"
    }
   ],
   "source": [
    "\"x\" * 8"
   ]
  },
  {
   "cell_type": "code",
   "execution_count": 3,
   "id": "f41f1aa4",
   "metadata": {},
   "outputs": [
    {
     "data": {
      "text/plain": [
       "'a\\n\\tb'"
      ]
     },
     "execution_count": 3,
     "metadata": {},
     "output_type": "execute_result"
    }
   ],
   "source": [
    "'a\\n\\tb'"
   ]
  },
  {
   "cell_type": "code",
   "execution_count": 4,
   "id": "383d6143",
   "metadata": {},
   "outputs": [
    {
     "name": "stdout",
     "output_type": "stream",
     "text": [
      "a\n",
      "\tb\n"
     ]
    }
   ],
   "source": [
    "print('a\\n\\tb')"
   ]
  },
  {
   "cell_type": "markdown",
   "id": "149c0f75",
   "metadata": {},
   "source": [
    "### commonly used string methods\n",
    "-- split and join"
   ]
  },
  {
   "cell_type": "code",
   "execution_count": 5,
   "id": "9d7b1af9",
   "metadata": {},
   "outputs": [
    {
     "data": {
      "text/plain": [
       "'join put spaces between these lists'"
      ]
     },
     "execution_count": 5,
     "metadata": {},
     "output_type": "execute_result"
    }
   ],
   "source": [
    "\" \".join ([\"join\", \"put\", \"spaces\", \"between\", \"these\", \"lists\"])"
   ]
  },
  {
   "cell_type": "code",
   "execution_count": 6,
   "id": "4ec82d76",
   "metadata": {},
   "outputs": [
    {
     "data": {
      "text/plain": [
       "'join,put,spaces,between,these,lists'"
      ]
     },
     "execution_count": 6,
     "metadata": {},
     "output_type": "execute_result"
    }
   ],
   "source": [
    "\",\".join ([\"join\", \"put\", \"spaces\", \"between\", \"these\", \"lists\"])"
   ]
  },
  {
   "cell_type": "code",
   "execution_count": 9,
   "id": "546ec3ca",
   "metadata": {},
   "outputs": [
    {
     "name": "stdout",
     "output_type": "stream",
     "text": [
      "['a', 'b', 'c', 'd']\n",
      "['a', 'b c d']\n"
     ]
    }
   ],
   "source": [
    "# new part \n",
    "#  on split we can specify to what extent splits should split the joined string using 02nd optional argument\n",
    "x = 'a b c d'\n",
    "print(x.split())\n",
    "print(x.split(None, 1)) # we externaly specified how many splits to perform\n",
    "# if the number of splits are more than length of string than it perfrom the spliting over the complete string"
   ]
  },
  {
   "cell_type": "markdown",
   "id": "c562663b",
   "metadata": {},
   "source": [
    "### Exercise :- use split and join to perform changing :- \n",
    "\"this is a test\" to \"this-is-a-test\""
   ]
  },
  {
   "cell_type": "code",
   "execution_count": 10,
   "id": "36012a34",
   "metadata": {},
   "outputs": [
    {
     "data": {
      "text/plain": [
       "'this-is-a-test'"
      ]
     },
     "execution_count": 10,
     "metadata": {},
     "output_type": "execute_result"
    }
   ],
   "source": [
    "str = \"this is a test\"\n",
    "\"-\".join(str.split(None))"
   ]
  },
  {
   "cell_type": "code",
   "execution_count": 27,
   "id": "c2bedde6",
   "metadata": {},
   "outputs": [
    {
     "data": {
      "text/plain": [
       "16"
      ]
     },
     "execution_count": 27,
     "metadata": {},
     "output_type": "execute_result"
    }
   ],
   "source": [
    "int('G', 17)"
   ]
  },
  {
   "cell_type": "code",
   "execution_count": 32,
   "id": "d497e8ff",
   "metadata": {},
   "outputs": [
    {
     "data": {
      "text/plain": [
       "1.2345678901234567e+19"
      ]
     },
     "execution_count": 32,
     "metadata": {},
     "output_type": "execute_result"
    }
   ],
   "source": [
    "# exercise on coverting string to int or float\n",
    "# int('a1')  # error a is char\n",
    "# int('12G', 16) # error G is not included for base-16\n",
    "float(\"12345678901234567890\") \n",
    "# int(\"12*2\") # error as * is char"
   ]
  },
  {
   "cell_type": "code",
   "execution_count": 50,
   "id": "5e149316",
   "metadata": {},
   "outputs": [
    {
     "data": {
      "text/plain": [
       "'name, date'"
      ]
     },
     "execution_count": 50,
     "metadata": {},
     "output_type": "execute_result"
    }
   ],
   "source": [
    "# Get rid of white spaces\n",
    "str = \"(name, date),\\n\"\n",
    "str.strip(\"(\\n,)\")"
   ]
  },
  {
   "cell_type": "code",
   "execution_count": 4,
   "id": "cf491970",
   "metadata": {},
   "outputs": [
    {
     "data": {
      "text/plain": [
       "3"
      ]
     },
     "execution_count": 4,
     "metadata": {},
     "output_type": "execute_result"
    }
   ],
   "source": [
    "X = \"Krishna\"\n",
    "X.find(\"shna\")"
   ]
  },
  {
   "cell_type": "code",
   "execution_count": 7,
   "id": "3bc228c3",
   "metadata": {},
   "outputs": [
    {
     "data": {
      "text/plain": [
       "1"
      ]
     },
     "execution_count": 7,
     "metadata": {},
     "output_type": "execute_result"
    }
   ],
   "source": [
    "str = \"abcabca\"\n",
    "str.count(\"abca\")"
   ]
  },
  {
   "cell_type": "markdown",
   "id": "b645a574",
   "metadata": {},
   "source": [
    "### how to check whether a line ends with a string “rejected”, and what are the other ways we can use here."
   ]
  },
  {
   "cell_type": "code",
   "execution_count": 29,
   "id": "df361727",
   "metadata": {},
   "outputs": [
    {
     "data": {
      "text/plain": [
       "True"
      ]
     },
     "execution_count": 29,
     "metadata": {},
     "output_type": "execute_result"
    }
   ],
   "source": [
    "line = \"how this has been rejected\"\n",
    "line.endswith(\"rejected\")"
   ]
  },
  {
   "cell_type": "code",
   "execution_count": 14,
   "id": "24a48b48",
   "metadata": {},
   "outputs": [
    {
     "name": "stdout",
     "output_type": "stream",
     "text": [
      "True\n"
     ]
    }
   ],
   "source": [
    "if line.rfind(\"rejected\") != -1:\n",
    "    print(True)"
   ]
  },
  {
   "cell_type": "code",
   "execution_count": 31,
   "id": "f0e9b084",
   "metadata": {},
   "outputs": [
    {
     "data": {
      "text/plain": [
       "'rejected'"
      ]
     },
     "execution_count": 31,
     "metadata": {},
     "output_type": "execute_result"
    }
   ],
   "source": [
    "line.split()[-1]"
   ]
  },
  {
   "cell_type": "code",
   "execution_count": 30,
   "id": "f1a0597a",
   "metadata": {},
   "outputs": [
    {
     "data": {
      "text/plain": [
       "'rejected'"
      ]
     },
     "execution_count": 30,
     "metadata": {},
     "output_type": "execute_result"
    }
   ],
   "source": [
    "line[-8:]"
   ]
  },
  {
   "cell_type": "code",
   "execution_count": 32,
   "id": "7c8d6277",
   "metadata": {},
   "outputs": [
    {
     "data": {
      "text/plain": [
       "8"
      ]
     },
     "execution_count": 32,
     "metadata": {},
     "output_type": "execute_result"
    }
   ],
   "source": [
    "len(\"rejected\")"
   ]
  },
  {
   "cell_type": "code",
   "execution_count": 37,
   "id": "9120f097",
   "metadata": {},
   "outputs": [
    {
     "data": {
      "text/plain": [
       "True"
      ]
     },
     "execution_count": 37,
     "metadata": {},
     "output_type": "execute_result"
    }
   ],
   "source": [
    "# ways\n",
    "\n",
    "line.endswith(\"rejected\")\n",
    "line.split()[-1] == \"rejected\"\n",
    "line[-len(\"rejected\"):] == \"rejected\" or line[-8:] == \"rejected\""
   ]
  },
  {
   "cell_type": "code",
   "execution_count": null,
   "id": "e4b1004a",
   "metadata": {},
   "outputs": [],
   "source": []
  }
 ],
 "metadata": {
  "kernelspec": {
   "display_name": "Python 3",
   "language": "python",
   "name": "python3"
  },
  "language_info": {
   "codemirror_mode": {
    "name": "ipython",
    "version": 3
   },
   "file_extension": ".py",
   "mimetype": "text/x-python",
   "name": "python",
   "nbconvert_exporter": "python",
   "pygments_lexer": "ipython3",
   "version": "3.6.9"
  }
 },
 "nbformat": 4,
 "nbformat_minor": 5
}
