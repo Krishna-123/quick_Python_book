{
 "cells": [
  {
   "cell_type": "code",
   "execution_count": 1,
   "id": "079fdd1e",
   "metadata": {},
   "outputs": [],
   "source": [
    "x = ['\"abc\"', 'def', '\"ghi\"', '\"klm\"', 'nop']"
   ]
  },
  {
   "cell_type": "code",
   "execution_count": 3,
   "id": "70d96f4b",
   "metadata": {},
   "outputs": [
    {
     "data": {
      "text/plain": [
       "'[\\'\"abc\"\\', \\'def\\', \\'\"ghi\"\\', \\'\"klm\"\\', \\'nop\\']'"
      ]
     },
     "execution_count": 3,
     "metadata": {},
     "output_type": "execute_result"
    }
   ],
   "source": [
    "str(x)"
   ]
  },
  {
   "cell_type": "code",
   "execution_count": 5,
   "id": "f362ec28",
   "metadata": {},
   "outputs": [],
   "source": [
    "class Polynomial:\n",
    "    pass\n",
    "\n",
    "p1 = Polynomial()\n",
    "p2 = Polynomial()\n",
    "p1.coeff = 1,2,3\n",
    "p2.coeff = 3,4,3\n"
   ]
  },
  {
   "cell_type": "code",
   "execution_count": 6,
   "id": "509903c9",
   "metadata": {},
   "outputs": [
    {
     "data": {
      "text/plain": [
       "<__main__.Polynomial at 0x7fa2f5521860>"
      ]
     },
     "execution_count": 6,
     "metadata": {},
     "output_type": "execute_result"
    }
   ],
   "source": [
    "p1"
   ]
  },
  {
   "cell_type": "code",
   "execution_count": 7,
   "id": "0a46d947",
   "metadata": {},
   "outputs": [
    {
     "data": {
      "text/plain": [
       "<__main__.Polynomial at 0x7fa2f5521358>"
      ]
     },
     "execution_count": 7,
     "metadata": {},
     "output_type": "execute_result"
    }
   ],
   "source": [
    "p2"
   ]
  },
  {
   "cell_type": "code",
   "execution_count": 9,
   "id": "080a5578",
   "metadata": {},
   "outputs": [],
   "source": [
    "class Polynomial:\n",
    "    def __init__(self, *coeff):\n",
    "        self.coeff = coeff\n",
    "        \n",
    "p1 = Polynomial(1,2,3)\n",
    "p2 = Polynomial(3,4,3)"
   ]
  },
  {
   "cell_type": "code",
   "execution_count": 10,
   "id": "b0409469",
   "metadata": {},
   "outputs": [
    {
     "data": {
      "text/plain": [
       "<__main__.Polynomial at 0x7fa2f4ccf6a0>"
      ]
     },
     "execution_count": 10,
     "metadata": {},
     "output_type": "execute_result"
    }
   ],
   "source": [
    "p1"
   ]
  },
  {
   "cell_type": "code",
   "execution_count": 11,
   "id": "3d2fc64d",
   "metadata": {},
   "outputs": [
    {
     "data": {
      "text/plain": [
       "<__main__.Polynomial at 0x7fa2f4ccf7f0>"
      ]
     },
     "execution_count": 11,
     "metadata": {},
     "output_type": "execute_result"
    }
   ],
   "source": [
    "p2"
   ]
  },
  {
   "cell_type": "code",
   "execution_count": 12,
   "id": "0512282c",
   "metadata": {},
   "outputs": [
    {
     "data": {
      "text/plain": [
       "'<__main__.Polynomial object at 0x7fa2f4ccf6a0>'"
      ]
     },
     "execution_count": 12,
     "metadata": {},
     "output_type": "execute_result"
    }
   ],
   "source": [
    "repr(p1)"
   ]
  },
  {
   "cell_type": "code",
   "execution_count": 13,
   "id": "42d3904f",
   "metadata": {},
   "outputs": [
    {
     "data": {
      "text/plain": [
       "'<__main__.Polynomial object at 0x7fa2f4ccf7f0>'"
      ]
     },
     "execution_count": 13,
     "metadata": {},
     "output_type": "execute_result"
    }
   ],
   "source": [
    "repr(p2)"
   ]
  },
  {
   "cell_type": "code",
   "execution_count": 70,
   "id": "e3977574",
   "metadata": {},
   "outputs": [],
   "source": [
    "class Polynomial:\n",
    "    def __init__(self, *coeff):\n",
    "        self.coeff = coeff\n",
    "    def __repr__(self):\n",
    "        return 'Polynomial *{0}'.format(self.coeff, 2)\n",
    "    \n",
    "    def __add__(self, other):\n",
    "        return Polynomial(*(x+y for x,y in zip(self.coeff, other.coeff)))\n",
    "\n",
    "    def __len__(self):\n",
    "        return len(self.coeff) -1\n",
    "    \n",
    "p1 = Polynomial(1,2,3)\n",
    "p2 = Polynomial(3,4,3)"
   ]
  },
  {
   "cell_type": "code",
   "execution_count": 71,
   "id": "5efc6994",
   "metadata": {},
   "outputs": [
    {
     "data": {
      "text/plain": [
       "'Polynomial *(1, 2, 3)'"
      ]
     },
     "execution_count": 71,
     "metadata": {},
     "output_type": "execute_result"
    }
   ],
   "source": [
    "repr(p1)"
   ]
  },
  {
   "cell_type": "code",
   "execution_count": 72,
   "id": "dd494fe5",
   "metadata": {},
   "outputs": [
    {
     "data": {
      "text/plain": [
       "'Polynomial *(3, 4, 3)'"
      ]
     },
     "execution_count": 72,
     "metadata": {},
     "output_type": "execute_result"
    }
   ],
   "source": [
    "repr(p2)"
   ]
  },
  {
   "cell_type": "code",
   "execution_count": 62,
   "id": "fc6bd213",
   "metadata": {},
   "outputs": [
    {
     "data": {
      "text/plain": [
       "Polynomial *(4, 6, 6)"
      ]
     },
     "execution_count": 62,
     "metadata": {},
     "output_type": "execute_result"
    }
   ],
   "source": [
    "p1+p2"
   ]
  },
  {
   "cell_type": "code",
   "execution_count": null,
   "id": "3e763fb3",
   "metadata": {},
   "outputs": [],
   "source": []
  },
  {
   "cell_type": "code",
   "execution_count": 69,
   "id": "547c89f8",
   "metadata": {},
   "outputs": [
    {
     "name": "stdout",
     "output_type": "stream",
     "text": [
      "4 6 6\n"
     ]
    }
   ],
   "source": [
    "# print(*(x+y for x,y in zip((1,2,3), (3,4,3))))"
   ]
  },
  {
   "cell_type": "code",
   "execution_count": null,
   "id": "39a0256d",
   "metadata": {},
   "outputs": [],
   "source": []
  }
 ],
 "metadata": {
  "kernelspec": {
   "display_name": "Python 3",
   "language": "python",
   "name": "python3"
  },
  "language_info": {
   "codemirror_mode": {
    "name": "ipython",
    "version": 3
   },
   "file_extension": ".py",
   "mimetype": "text/x-python",
   "name": "python",
   "nbconvert_exporter": "python",
   "pygments_lexer": "ipython3",
   "version": "3.6.9"
  }
 },
 "nbformat": 4,
 "nbformat_minor": 5
}
