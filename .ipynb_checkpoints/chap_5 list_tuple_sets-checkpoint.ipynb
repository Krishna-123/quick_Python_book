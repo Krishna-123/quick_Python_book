{
 "cells": [
  {
   "cell_type": "code",
   "execution_count": 3,
   "id": "f85d6300",
   "metadata": {},
   "outputs": [],
   "source": [
    "x = (2 + 3j) * (2-3j)"
   ]
  },
  {
   "cell_type": "code",
   "execution_count": 4,
   "id": "90bad195",
   "metadata": {},
   "outputs": [
    {
     "data": {
      "text/plain": [
       "13.0"
      ]
     },
     "execution_count": 4,
     "metadata": {},
     "output_type": "execute_result"
    }
   ],
   "source": [
    "x.real"
   ]
  },
  {
   "cell_type": "code",
   "execution_count": 6,
   "id": "33297856",
   "metadata": {},
   "outputs": [
    {
     "data": {
      "text/plain": [
       "0.0"
      ]
     },
     "execution_count": 6,
     "metadata": {},
     "output_type": "execute_result"
    }
   ],
   "source": [
    "x.imag"
   ]
  },
  {
   "cell_type": "code",
   "execution_count": 7,
   "id": "2232f35e",
   "metadata": {},
   "outputs": [],
   "source": [
    "import re"
   ]
  },
  {
   "cell_type": "code",
   "execution_count": 15,
   "id": "9b506947",
   "metadata": {},
   "outputs": [
    {
     "data": {
      "text/plain": [
       "re.compile(r'[\\t]+', re.UNICODE)"
      ]
     },
     "execution_count": 15,
     "metadata": {},
     "output_type": "execute_result"
    }
   ],
   "source": [
    "reg = re.compile(r\"[\\t]+\")\n",
    "reg"
   ]
  },
  {
   "cell_type": "code",
   "execution_count": 16,
   "id": "643cf3aa",
   "metadata": {},
   "outputs": [
    {
     "data": {
      "text/plain": [
       "'live and let live'"
      ]
     },
     "execution_count": 16,
     "metadata": {},
     "output_type": "execute_result"
    }
   ],
   "source": [
    "reg.sub(\" \", \"live\\tand let live\")"
   ]
  },
  {
   "cell_type": "code",
   "execution_count": 17,
   "id": "225d5873",
   "metadata": {},
   "outputs": [],
   "source": [
    "import os"
   ]
  },
  {
   "cell_type": "code",
   "execution_count": 19,
   "id": "ea557ac2",
   "metadata": {},
   "outputs": [
    {
     "data": {
      "text/plain": [
       "'/home/vkrishna123/Investigation_into_data/Python/100Days_of_Python/Python_coding/days_3'"
      ]
     },
     "execution_count": 19,
     "metadata": {},
     "output_type": "execute_result"
    }
   ],
   "source": [
    "os.getcwd()  #current working directory"
   ]
  },
  {
   "cell_type": "code",
   "execution_count": 20,
   "id": "62f91889",
   "metadata": {},
   "outputs": [],
   "source": [
    "f= open(\"art_day10.py\", \"r\")"
   ]
  },
  {
   "cell_type": "code",
   "execution_count": 22,
   "id": "27cd0bad",
   "metadata": {},
   "outputs": [
    {
     "data": {
      "text/plain": [
       "''"
      ]
     },
     "execution_count": 22,
     "metadata": {},
     "output_type": "execute_result"
    }
   ],
   "source": [
    "f.readline()"
   ]
  },
  {
   "cell_type": "code",
   "execution_count": 25,
   "id": "8f751e17",
   "metadata": {},
   "outputs": [],
   "source": [
    "os.chdir(\"/home/vkrishna123/Desktop\") # to change the pwd"
   ]
  },
  {
   "cell_type": "code",
   "execution_count": 26,
   "id": "0e1ac171",
   "metadata": {},
   "outputs": [
    {
     "data": {
      "text/plain": [
       "'/home/vkrishna123/Desktop'"
      ]
     },
     "execution_count": 26,
     "metadata": {},
     "output_type": "execute_result"
    }
   ],
   "source": [
    "os.getcwd()"
   ]
  },
  {
   "cell_type": "code",
   "execution_count": 85,
   "id": "d0f17a52",
   "metadata": {},
   "outputs": [],
   "source": [
    "filename = os.path.join(\"/home/vkrishna123/\", \"Investigation_into_data/Python/100Days_of_Python/Python_coding/days_3\", \"testing.py\")"
   ]
  },
  {
   "cell_type": "code",
   "execution_count": 86,
   "id": "f1d8a4cd",
   "metadata": {},
   "outputs": [],
   "source": [
    "file = open(filename, \"w\")"
   ]
  },
  {
   "cell_type": "code",
   "execution_count": 87,
   "id": "a627ddef",
   "metadata": {},
   "outputs": [
    {
     "data": {
      "text/plain": [
       "43"
      ]
     },
     "execution_count": 87,
     "metadata": {},
     "output_type": "execute_result"
    }
   ],
   "source": [
    "file.write(\"hello this is the testing file \")\n",
    "file.write(\"hello we are using this file for word count\")"
   ]
  },
  {
   "cell_type": "code",
   "execution_count": 88,
   "id": "94a77c1e",
   "metadata": {},
   "outputs": [],
   "source": [
    "file.close()"
   ]
  },
  {
   "cell_type": "code",
   "execution_count": 34,
   "id": "f467da4d",
   "metadata": {},
   "outputs": [
    {
     "data": {
      "text/plain": [
       "'/home/vkrishna123/Desktop'"
      ]
     },
     "execution_count": 34,
     "metadata": {},
     "output_type": "execute_result"
    }
   ],
   "source": [
    "os.getcwd()"
   ]
  },
  {
   "cell_type": "code",
   "execution_count": 74,
   "id": "c2ac3215",
   "metadata": {},
   "outputs": [],
   "source": [
    "file = open(filename, \"r\")"
   ]
  },
  {
   "cell_type": "code",
   "execution_count": 75,
   "id": "618d3987",
   "metadata": {},
   "outputs": [
    {
     "name": "stdout",
     "output_type": "stream",
     "text": [
      "hello this is the testing file\n"
     ]
    }
   ],
   "source": [
    "for line in file:\n",
    "    print(line)"
   ]
  },
  {
   "cell_type": "code",
   "execution_count": 72,
   "id": "90143b6a",
   "metadata": {},
   "outputs": [],
   "source": [
    "file.close()"
   ]
  },
  {
   "cell_type": "code",
   "execution_count": 77,
   "id": "b68a67af",
   "metadata": {},
   "outputs": [
    {
     "name": "stdout",
     "output_type": "stream",
     "text": [
      "hello this is the testing file\n"
     ]
    }
   ],
   "source": [
    "with open(filename, \"r\") as f:\n",
    "    for line in f:\n",
    "        print(line)"
   ]
  },
  {
   "cell_type": "code",
   "execution_count": 93,
   "id": "b858ce72",
   "metadata": {},
   "outputs": [
    {
     "name": "stdout",
     "output_type": "stream",
     "text": [
      "{'hello': 2, 'this': 2, 'is': 1, 'the': 1, 'testing': 1, 'file': 2, 'we': 1, 'are': 1, 'using': 1, 'for': 1, 'word': 1, 'count': 1}\n"
     ]
    }
   ],
   "source": [
    "def word_count(filename):\n",
    "#     filename = input(\"enter the filename\")\n",
    "    file = open(filename, \"r\")\n",
    "\n",
    "    word_list = file.read().split()\n",
    "    file.close()\n",
    "    \n",
    "    word_count_bag = {}\n",
    "    for word in word_list:\n",
    "        word_count_bag[word] = word_list.count(word)\n",
    "        \n",
    "    return word_count_bag\n",
    "\n",
    "print(word_count(filename))"
   ]
  },
  {
   "cell_type": "code",
   "execution_count": 96,
   "id": "70b5197b",
   "metadata": {},
   "outputs": [
    {
     "data": {
      "text/plain": [
       "([1, (1, 3, 4), 3], [1, (1, 3, 4), 3], [1, (1, 3, 4), 3])"
      ]
     },
     "execution_count": 96,
     "metadata": {},
     "output_type": "execute_result"
    }
   ],
   "source": [
    "a = [1,2,3]\n",
    "b = a\n",
    "c = b\n",
    "b[1] = (1,3,4)\n",
    "a,b,c"
   ]
  },
  {
   "cell_type": "code",
   "execution_count": 97,
   "id": "4fb37b8d",
   "metadata": {},
   "outputs": [],
   "source": [
    "l = [[1, 3, [4, 5], 6], 7]"
   ]
  },
  {
   "cell_type": "code",
   "execution_count": 98,
   "id": "266cafdb",
   "metadata": {},
   "outputs": [
    {
     "data": {
      "text/plain": [
       "2"
      ]
     },
     "execution_count": 98,
     "metadata": {},
     "output_type": "execute_result"
    }
   ],
   "source": [
    "len(l)"
   ]
  },
  {
   "cell_type": "code",
   "execution_count": 99,
   "id": "1aa7bdc7",
   "metadata": {},
   "outputs": [
    {
     "data": {
      "text/plain": [
       "1"
      ]
     },
     "execution_count": 99,
     "metadata": {},
     "output_type": "execute_result"
    }
   ],
   "source": [
    "len([0])"
   ]
  },
  {
   "cell_type": "code",
   "execution_count": 100,
   "id": "f80e3e43",
   "metadata": {},
   "outputs": [
    {
     "data": {
      "text/plain": [
       "0"
      ]
     },
     "execution_count": 100,
     "metadata": {},
     "output_type": "execute_result"
    }
   ],
   "source": [
    "len([])"
   ]
  },
  {
   "cell_type": "code",
   "execution_count": 101,
   "id": "ec0caba6",
   "metadata": {},
   "outputs": [],
   "source": [
    "l = [1,2,3,4]"
   ]
  },
  {
   "cell_type": "code",
   "execution_count": 102,
   "id": "f7336483",
   "metadata": {},
   "outputs": [
    {
     "data": {
      "text/plain": [
       "[3]"
      ]
     },
     "execution_count": 102,
     "metadata": {},
     "output_type": "execute_result"
    }
   ],
   "source": [
    "l[2:-1]"
   ]
  },
  {
   "cell_type": "code",
   "execution_count": 109,
   "id": "6c82561a",
   "metadata": {},
   "outputs": [
    {
     "data": {
      "text/plain": [
       "[]"
      ]
     },
     "execution_count": 109,
     "metadata": {},
     "output_type": "execute_result"
    }
   ],
   "source": [
    "l[-1:1]"
   ]
  },
  {
   "cell_type": "code",
   "execution_count": 112,
   "id": "e8530561",
   "metadata": {},
   "outputs": [
    {
     "name": "stdout",
     "output_type": "stream",
     "text": [
      "[0, 1, 2, 3, 4, 5, 6, 7, 8, 9]\n",
      "[0, 1, 2, 3, 4]\n"
     ]
    }
   ],
   "source": [
    "l = list(range(0,10))\n",
    "# print exact half elements from list l\n",
    "print(l)\n",
    "print(l[:len(l)//2])"
   ]
  },
  {
   "cell_type": "code",
   "execution_count": 113,
   "id": "afb40776",
   "metadata": {},
   "outputs": [
    {
     "data": {
      "text/plain": [
       "['half', 5, 6, 7, 8, 9]"
      ]
     },
     "execution_count": 113,
     "metadata": {},
     "output_type": "execute_result"
    }
   ],
   "source": [
    "l[:len(l)//2] = [\"half\"]\n",
    "l"
   ]
  },
  {
   "cell_type": "code",
   "execution_count": 114,
   "id": "46977585",
   "metadata": {},
   "outputs": [
    {
     "data": {
      "text/plain": [
       "['half', 5, 6, 7, 8, 9, 'half', 5, 6, 7, 8, 9]"
      ]
     },
     "execution_count": 114,
     "metadata": {},
     "output_type": "execute_result"
    }
   ],
   "source": [
    "l[len(l):] = l\n",
    "l"
   ]
  },
  {
   "cell_type": "code",
   "execution_count": 115,
   "id": "54b94588",
   "metadata": {},
   "outputs": [
    {
     "data": {
      "text/plain": [
       "[-1, -2, -3, 'half', 5, 6, 7, 8, 9, 'half', 5, 6, 7, 8, 9]"
      ]
     },
     "execution_count": 115,
     "metadata": {},
     "output_type": "execute_result"
    }
   ],
   "source": [
    "l[:0] = [-1, -2,-3]\n",
    "l"
   ]
  },
  {
   "cell_type": "code",
   "execution_count": 116,
   "id": "3d6b102d",
   "metadata": {},
   "outputs": [
    {
     "data": {
      "text/plain": [
       "[-1, -2, -3, 'half', 5, 6, 7, 8, 9, 'half', 5, 6, 7, 8, 9]"
      ]
     },
     "execution_count": 116,
     "metadata": {},
     "output_type": "execute_result"
    }
   ],
   "source": [
    "l"
   ]
  },
  {
   "cell_type": "code",
   "execution_count": 129,
   "id": "d77c7fa4",
   "metadata": {},
   "outputs": [
    {
     "data": {
      "text/plain": [
       "[1, 2, 98, 3, 4, 'inserting', 5]"
      ]
     },
     "execution_count": 129,
     "metadata": {},
     "output_type": "execute_result"
    }
   ],
   "source": [
    "l1 = l[:5] + [\"inserting\"] + l[5:]\n",
    "l1"
   ]
  },
  {
   "cell_type": "code",
   "execution_count": 120,
   "id": "17cfcb8f",
   "metadata": {},
   "outputs": [
    {
     "data": {
      "text/plain": [
       "[-1,\n",
       " -2,\n",
       " -3,\n",
       " 'half',\n",
       " 5,\n",
       " 'inserting',\n",
       " 'inserting',\n",
       " 6,\n",
       " 7,\n",
       " 8,\n",
       " 9,\n",
       " 'half',\n",
       " 5,\n",
       " 6,\n",
       " 7,\n",
       " 8,\n",
       " 9]"
      ]
     },
     "execution_count": 120,
     "metadata": {},
     "output_type": "execute_result"
    }
   ],
   "source": [
    "l.insert(5, \"inserting\")\n",
    "l"
   ]
  },
  {
   "cell_type": "code",
   "execution_count": 145,
   "id": "b541eaa8",
   "metadata": {},
   "outputs": [
    {
     "data": {
      "text/plain": [
       "[1, 2, 98, 3, 4, 5]"
      ]
     },
     "execution_count": 145,
     "metadata": {},
     "output_type": "execute_result"
    }
   ],
   "source": [
    "l = [1,2,3,4,5]\n",
    "l[2:2] = [98]\n",
    "l"
   ]
  },
  {
   "cell_type": "code",
   "execution_count": 130,
   "id": "2ee1e3c0",
   "metadata": {},
   "outputs": [],
   "source": [
    "del l[:2]"
   ]
  },
  {
   "cell_type": "code",
   "execution_count": 133,
   "id": "0e034474",
   "metadata": {},
   "outputs": [
    {
     "data": {
      "text/plain": [
       "[1, 2, 98, 3, 4, 5]"
      ]
     },
     "execution_count": 133,
     "metadata": {},
     "output_type": "execute_result"
    }
   ],
   "source": [
    "l"
   ]
  },
  {
   "cell_type": "code",
   "execution_count": 134,
   "id": "6d8cf780",
   "metadata": {},
   "outputs": [],
   "source": [
    "l[:2] = []"
   ]
  },
  {
   "cell_type": "code",
   "execution_count": 141,
   "id": "d1d65279",
   "metadata": {},
   "outputs": [
    {
     "data": {
      "text/plain": [
       "[1, 2, 98, 3, 4, 5]"
      ]
     },
     "execution_count": 141,
     "metadata": {},
     "output_type": "execute_result"
    }
   ],
   "source": [
    "l"
   ]
  },
  {
   "cell_type": "code",
   "execution_count": 146,
   "id": "f753f49e",
   "metadata": {},
   "outputs": [
    {
     "data": {
      "text/plain": [
       "[1, 2, [1, 2, 3, 4], 98, 3, 4, 5]"
      ]
     },
     "execution_count": 146,
     "metadata": {},
     "output_type": "execute_result"
    }
   ],
   "source": [
    "l[2:2] = [[1,2,3,4]]\n",
    "l"
   ]
  },
  {
   "cell_type": "code",
   "execution_count": 167,
   "id": "3966afa5",
   "metadata": {},
   "outputs": [
    {
     "data": {
      "text/plain": [
       "[0, 1, 2, 3, 4, 5, 6, 7, 8, 9]"
      ]
     },
     "execution_count": 167,
     "metadata": {},
     "output_type": "execute_result"
    }
   ],
   "source": [
    "l = list(range(10))\n",
    "l"
   ]
  },
  {
   "cell_type": "markdown",
   "id": "4414807a",
   "metadata": {},
   "source": [
    "### move the last three items from end of the list to the begining of the list by keeping the same order"
   ]
  },
  {
   "cell_type": "code",
   "execution_count": 168,
   "id": "21f975c9",
   "metadata": {},
   "outputs": [
    {
     "data": {
      "text/plain": [
       "[7, 8, 9, 0, 1, 2, 3, 4, 5, 6]"
      ]
     },
     "execution_count": 168,
     "metadata": {},
     "output_type": "execute_result"
    }
   ],
   "source": [
    "\n",
    "l[:0], l[-3: ] = l[-3: ], []\n",
    "l"
   ]
  },
  {
   "cell_type": "code",
   "execution_count": 163,
   "id": "81af4fa9",
   "metadata": {},
   "outputs": [
    {
     "data": {
      "text/plain": [
       "[7, 8, 9, 0, 1, 2, 3, 4, 5, 6]"
      ]
     },
     "execution_count": 163,
     "metadata": {},
     "output_type": "execute_result"
    }
   ],
   "source": [
    "l = l[-3:] + l[:-3]\n",
    "l"
   ]
  },
  {
   "cell_type": "markdown",
   "id": "71cc1576",
   "metadata": {},
   "source": [
    "### sort a list"
   ]
  },
  {
   "cell_type": "code",
   "execution_count": 2,
   "id": "fd901a03",
   "metadata": {},
   "outputs": [
    {
     "data": {
      "text/plain": [
       "[2, 3, 4, 5]"
      ]
     },
     "execution_count": 2,
     "metadata": {},
     "output_type": "execute_result"
    }
   ],
   "source": [
    "l = [2,4,3,5]\n",
    "l.sort()\n",
    "l"
   ]
  },
  {
   "cell_type": "code",
   "execution_count": 3,
   "id": "30f31811",
   "metadata": {},
   "outputs": [
    {
     "data": {
      "text/plain": [
       "[5, 4, 3, 2]"
      ]
     },
     "execution_count": 3,
     "metadata": {},
     "output_type": "execute_result"
    }
   ],
   "source": [
    "l.sort(reverse=True)\n",
    "l"
   ]
  },
  {
   "cell_type": "code",
   "execution_count": 5,
   "id": "c18dfc84",
   "metadata": {},
   "outputs": [
    {
     "data": {
      "text/plain": [
       "[[2, 2, 9], [2, 3], [3, 4], [3, 6], [4, 1], [5, 4]]"
      ]
     },
     "execution_count": 5,
     "metadata": {},
     "output_type": "execute_result"
    }
   ],
   "source": [
    "# also can do the sortign for list of lists\n",
    "l = [ [2,3], [2,2, 9], [3,4], [3,6], [4,1], [5,4] ]\n",
    "sorted(l)"
   ]
  },
  {
   "cell_type": "markdown",
   "id": "3bd47777",
   "metadata": {},
   "source": [
    "### function to sort the list of strings by the number of character or letters they are containing"
   ]
  },
  {
   "cell_type": "code",
   "execution_count": 12,
   "id": "a5a4a258",
   "metadata": {},
   "outputs": [
    {
     "data": {
      "text/plain": [
       "['a', '!', 'in', 'life', 'metro']"
      ]
     },
     "execution_count": 12,
     "metadata": {},
     "output_type": "execute_result"
    }
   ],
   "source": [
    "def word_length(string_list):\n",
    "    list_len_items_order = []\n",
    "    sorted_list = []\n",
    "    \n",
    "    # list of [ [length, order] ]\n",
    "    for index in range(len(string_list)):\n",
    "        list_len_items_order.append([len(string_list[index]), index]) \n",
    "    \n",
    "    # sort directly based on order\n",
    "    for order in sorted(list_len_items_order):\n",
    "        sorted_list.append(string_list[order[1]])\n",
    "    \n",
    "    return sorted_list\n",
    "\n",
    "word_length([\"life\", \"in\", \"a\", \"metro\", \"!\"])    "
   ]
  },
  {
   "cell_type": "code",
   "execution_count": null,
   "id": "0c9da432",
   "metadata": {},
   "outputs": [],
   "source": [
    "### in contrast of above method Python sort method is much more simpler and effecient"
   ]
  },
  {
   "cell_type": "code",
   "execution_count": 16,
   "id": "6f8ed42b",
   "metadata": {},
   "outputs": [
    {
     "data": {
      "text/plain": [
       "['a', '!', 'in', 'life', 'metro']"
      ]
     },
     "execution_count": 16,
     "metadata": {},
     "output_type": "execute_result"
    }
   ],
   "source": [
    "l = [\"life\", \"in\", \"a\", \"metro\", \"!\"]\n",
    "l.sort(key = lambda x : len(x) )\n",
    "l"
   ]
  },
  {
   "cell_type": "markdown",
   "id": "064f061b",
   "metadata": {},
   "source": [
    "### Exercise sorting"
   ]
  },
  {
   "cell_type": "code",
   "execution_count": 21,
   "id": "af3c8090",
   "metadata": {},
   "outputs": [],
   "source": [
    "l = [[1, 2, 3], [2, 1, 3], [4, 0, 1]]\n",
    "\n",
    "# sort the above list based on the 2nd element of every sublist\n",
    "# output :- [[4, 0, 1], [2, 1, 3], [1, 2, 3]]"
   ]
  },
  {
   "cell_type": "code",
   "execution_count": 23,
   "id": "469aeb49",
   "metadata": {},
   "outputs": [
    {
     "data": {
      "text/plain": [
       "[[4, 0, 1], [2, 1, 3], [1, 2, 3]]"
      ]
     },
     "execution_count": 23,
     "metadata": {},
     "output_type": "execute_result"
    }
   ],
   "source": [
    "l.sort(key = lambda item : item[1])\n",
    "l"
   ]
  },
  {
   "cell_type": "markdown",
   "id": "f701534c",
   "metadata": {},
   "source": [
    "### common used list methods"
   ]
  },
  {
   "cell_type": "code",
   "execution_count": 25,
   "id": "41d171a5",
   "metadata": {},
   "outputs": [
    {
     "name": "stdout",
     "output_type": "stream",
     "text": [
      "1\n",
      "3\n"
     ]
    }
   ],
   "source": [
    "l = [1,2,3,10, 5,3,2]\n",
    "print(l.index(2))\n",
    "print(l.index(10))\n"
   ]
  },
  {
   "cell_type": "code",
   "execution_count": 27,
   "id": "69687c53",
   "metadata": {},
   "outputs": [
    {
     "data": {
      "text/plain": [
       "[[1, 2], [1, 2], [1, 2]]"
      ]
     },
     "execution_count": 27,
     "metadata": {},
     "output_type": "execute_result"
    }
   ],
   "source": [
    "# Eg :- output of len([[1,2]] * 3)  = 3\n",
    "[[1,2]] * 3"
   ]
  },
  {
   "cell_type": "code",
   "execution_count": 30,
   "id": "07dc77f4",
   "metadata": {},
   "outputs": [
    {
     "data": {
      "text/plain": [
       "0"
      ]
     },
     "execution_count": 30,
     "metadata": {},
     "output_type": "execute_result"
    }
   ],
   "source": [
    "min([\"a\", \"b\", \"c\"])\n",
    "# max([1, 2, \"three\"]) ;\n",
    "[1, 2, 3].count(\"one\")"
   ]
  },
  {
   "cell_type": "code",
   "execution_count": 31,
   "id": "4b261aae",
   "metadata": {},
   "outputs": [],
   "source": [
    "l = list(range(10))"
   ]
  },
  {
   "cell_type": "code",
   "execution_count": 32,
   "id": "eb3c6468",
   "metadata": {},
   "outputs": [
    {
     "data": {
      "text/plain": [
       "[0, 1, 2, 3, 4, 5, 6, 7, 8, 9]"
      ]
     },
     "execution_count": 32,
     "metadata": {},
     "output_type": "execute_result"
    }
   ],
   "source": [
    "l"
   ]
  },
  {
   "cell_type": "markdown",
   "id": "5cf6d408",
   "metadata": {},
   "source": [
    "### Exercise for common list methods"
   ]
  },
  {
   "cell_type": "code",
   "execution_count": 35,
   "id": "57664128",
   "metadata": {},
   "outputs": [
    {
     "data": {
      "text/plain": [
       "[0, 1, 2, 5, 6, 7, 8, 9]"
      ]
     },
     "execution_count": 35,
     "metadata": {},
     "output_type": "execute_result"
    }
   ],
   "source": [
    "# 1. remove the item from the list if and only if that item is present in the list\n",
    "def remove_item(x):\n",
    "    if x in l:\n",
    "        l.remove(x)\n",
    "    return l\n",
    "remove_item(3)\n"
   ]
  },
  {
   "cell_type": "code",
   "execution_count": 38,
   "id": "70f90d89",
   "metadata": {},
   "outputs": [
    {
     "data": {
      "text/plain": [
       "[0, 1, 2, 4, 3, 4, 5]"
      ]
     },
     "execution_count": 38,
     "metadata": {},
     "output_type": "execute_result"
    }
   ],
   "source": [
    "l = [0,1,2,3,4,3,4,5]\n",
    "# 2. remove only if the item is present more than once\n",
    "def remove_item(x):\n",
    "    if l.count(x) > 1:\n",
    "        l.remove(x)\n",
    "    return l\n",
    "remove_item(3)"
   ]
  },
  {
   "cell_type": "code",
   "execution_count": null,
   "id": "f7283f07",
   "metadata": {},
   "outputs": [],
   "source": []
  }
 ],
 "metadata": {
  "kernelspec": {
   "display_name": "Python 3",
   "language": "python",
   "name": "python3"
  },
  "language_info": {
   "codemirror_mode": {
    "name": "ipython",
    "version": 3
   },
   "file_extension": ".py",
   "mimetype": "text/x-python",
   "name": "python",
   "nbconvert_exporter": "python",
   "pygments_lexer": "ipython3",
   "version": "3.6.9"
  }
 },
 "nbformat": 4,
 "nbformat_minor": 5
}
