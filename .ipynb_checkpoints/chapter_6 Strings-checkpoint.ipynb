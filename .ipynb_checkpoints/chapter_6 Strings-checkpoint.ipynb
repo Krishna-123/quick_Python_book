{
 "cells": [
  {
   "cell_type": "code",
   "execution_count": 289,
   "id": "accb9831",
   "metadata": {},
   "outputs": [],
   "source": [
    "%config Completer.use_jedi = False"
   ]
  },
  {
   "cell_type": "code",
   "execution_count": 1,
   "id": "dd2891a6",
   "metadata": {},
   "outputs": [
    {
     "data": {
      "text/plain": [
       "'xxxxxxxx'"
      ]
     },
     "execution_count": 1,
     "metadata": {},
     "output_type": "execute_result"
    }
   ],
   "source": [
    "\"x\" * 8"
   ]
  },
  {
   "cell_type": "code",
   "execution_count": 3,
   "id": "f41f1aa4",
   "metadata": {},
   "outputs": [
    {
     "data": {
      "text/plain": [
       "'a\\n\\tb'"
      ]
     },
     "execution_count": 3,
     "metadata": {},
     "output_type": "execute_result"
    }
   ],
   "source": [
    "'a\\n\\tb'"
   ]
  },
  {
   "cell_type": "code",
   "execution_count": 4,
   "id": "383d6143",
   "metadata": {},
   "outputs": [
    {
     "name": "stdout",
     "output_type": "stream",
     "text": [
      "a\n",
      "\tb\n"
     ]
    }
   ],
   "source": [
    "print('a\\n\\tb')"
   ]
  },
  {
   "cell_type": "markdown",
   "id": "149c0f75",
   "metadata": {},
   "source": [
    "### commonly used string methods\n",
    "-- split and join"
   ]
  },
  {
   "cell_type": "code",
   "execution_count": 5,
   "id": "9d7b1af9",
   "metadata": {},
   "outputs": [
    {
     "data": {
      "text/plain": [
       "'join put spaces between these lists'"
      ]
     },
     "execution_count": 5,
     "metadata": {},
     "output_type": "execute_result"
    }
   ],
   "source": [
    "\" \".join ([\"join\", \"put\", \"spaces\", \"between\", \"these\", \"lists\"])"
   ]
  },
  {
   "cell_type": "code",
   "execution_count": 6,
   "id": "4ec82d76",
   "metadata": {},
   "outputs": [
    {
     "data": {
      "text/plain": [
       "'join,put,spaces,between,these,lists'"
      ]
     },
     "execution_count": 6,
     "metadata": {},
     "output_type": "execute_result"
    }
   ],
   "source": [
    "\",\".join ([\"join\", \"put\", \"spaces\", \"between\", \"these\", \"lists\"])"
   ]
  },
  {
   "cell_type": "code",
   "execution_count": 9,
   "id": "546ec3ca",
   "metadata": {},
   "outputs": [
    {
     "name": "stdout",
     "output_type": "stream",
     "text": [
      "['a', 'b', 'c', 'd']\n",
      "['a', 'b c d']\n"
     ]
    }
   ],
   "source": [
    "# new part \n",
    "#  on split we can specify to what extent splits should split the joined string using 02nd optional argument\n",
    "x = 'a b c d'\n",
    "print(x.split())\n",
    "print(x.split(None, 1)) # we externaly specified how many splits to perform\n",
    "# if the number of splits are more than length of string than it perfrom the spliting over the complete string"
   ]
  },
  {
   "cell_type": "markdown",
   "id": "c562663b",
   "metadata": {},
   "source": [
    "### Exercise :- use split and join to perform changing :- \n",
    "\"this is a test\" to \"this-is-a-test\""
   ]
  },
  {
   "cell_type": "code",
   "execution_count": 10,
   "id": "36012a34",
   "metadata": {},
   "outputs": [
    {
     "data": {
      "text/plain": [
       "'this-is-a-test'"
      ]
     },
     "execution_count": 10,
     "metadata": {},
     "output_type": "execute_result"
    }
   ],
   "source": [
    "str = \"this is a test\"\n",
    "\"-\".join(str.split(None))"
   ]
  },
  {
   "cell_type": "code",
   "execution_count": 27,
   "id": "c2bedde6",
   "metadata": {},
   "outputs": [
    {
     "data": {
      "text/plain": [
       "16"
      ]
     },
     "execution_count": 27,
     "metadata": {},
     "output_type": "execute_result"
    }
   ],
   "source": [
    "int('G', 17)"
   ]
  },
  {
   "cell_type": "code",
   "execution_count": 32,
   "id": "d497e8ff",
   "metadata": {},
   "outputs": [
    {
     "data": {
      "text/plain": [
       "1.2345678901234567e+19"
      ]
     },
     "execution_count": 32,
     "metadata": {},
     "output_type": "execute_result"
    }
   ],
   "source": [
    "# exercise on coverting string to int or float\n",
    "# int('a1')  # error a is char\n",
    "# int('12G', 16) # error G is not included for base-16\n",
    "float(\"12345678901234567890\") \n",
    "# int(\"12*2\") # error as * is char"
   ]
  },
  {
   "cell_type": "code",
   "execution_count": 50,
   "id": "5e149316",
   "metadata": {},
   "outputs": [
    {
     "data": {
      "text/plain": [
       "'name, date'"
      ]
     },
     "execution_count": 50,
     "metadata": {},
     "output_type": "execute_result"
    }
   ],
   "source": [
    "# Get rid of white spaces\n",
    "str = \"(name, date),\\n\"\n",
    "str.strip(\"(\\n,)\")"
   ]
  },
  {
   "cell_type": "code",
   "execution_count": 4,
   "id": "cf491970",
   "metadata": {},
   "outputs": [
    {
     "data": {
      "text/plain": [
       "3"
      ]
     },
     "execution_count": 4,
     "metadata": {},
     "output_type": "execute_result"
    }
   ],
   "source": [
    "X = \"Krishna\"\n",
    "X.find(\"shna\")"
   ]
  },
  {
   "cell_type": "code",
   "execution_count": 7,
   "id": "fb747257",
   "metadata": {},
   "outputs": [
    {
     "data": {
      "text/plain": [
       "1"
      ]
     },
     "execution_count": 7,
     "metadata": {},
     "output_type": "execute_result"
    }
   ],
   "source": [
    "str = \"abcabca\"\n",
    "str.count(\"abca\")"
   ]
  },
  {
   "cell_type": "markdown",
   "id": "64c81b1f",
   "metadata": {},
   "source": [
    "### how to check whether a line ends with a string “rejected”, and what are the other ways we can use here."
   ]
  },
  {
   "cell_type": "code",
   "execution_count": 29,
   "id": "6d0cdd1a",
   "metadata": {},
   "outputs": [
    {
     "data": {
      "text/plain": [
       "True"
      ]
     },
     "execution_count": 29,
     "metadata": {},
     "output_type": "execute_result"
    }
   ],
   "source": [
    "line = \"how this has been rejected\"\n",
    "line.endswith(\"rejected\")"
   ]
  },
  {
   "cell_type": "code",
   "execution_count": 14,
   "id": "5cc716b9",
   "metadata": {},
   "outputs": [
    {
     "name": "stdout",
     "output_type": "stream",
     "text": [
      "True\n"
     ]
    }
   ],
   "source": [
    "if line.rfind(\"rejected\") != -1:\n",
    "    print(True)"
   ]
  },
  {
   "cell_type": "code",
   "execution_count": 31,
   "id": "c878ba8a",
   "metadata": {},
   "outputs": [
    {
     "data": {
      "text/plain": [
       "'rejected'"
      ]
     },
     "execution_count": 31,
     "metadata": {},
     "output_type": "execute_result"
    }
   ],
   "source": [
    "line.split()[-1]"
   ]
  },
  {
   "cell_type": "code",
   "execution_count": 30,
   "id": "096d6a5b",
   "metadata": {},
   "outputs": [
    {
     "data": {
      "text/plain": [
       "'rejected'"
      ]
     },
     "execution_count": 30,
     "metadata": {},
     "output_type": "execute_result"
    }
   ],
   "source": [
    "line[-8:]"
   ]
  },
  {
   "cell_type": "code",
   "execution_count": 32,
   "id": "aab04af0",
   "metadata": {},
   "outputs": [
    {
     "data": {
      "text/plain": [
       "8"
      ]
     },
     "execution_count": 32,
     "metadata": {},
     "output_type": "execute_result"
    }
   ],
   "source": [
    "len(\"rejected\")"
   ]
  },
  {
   "cell_type": "code",
   "execution_count": 37,
   "id": "abc5ff26",
   "metadata": {},
   "outputs": [
    {
     "data": {
      "text/plain": [
       "True"
      ]
     },
     "execution_count": 37,
     "metadata": {},
     "output_type": "execute_result"
    }
   ],
   "source": [
    "# ways\n",
    "\n",
    "line.endswith(\"rejected\")\n",
    "line.split()[-1] == \"rejected\"\n",
    "line[-len(\"rejected\"):] == \"rejected\" or line[-8:] == \"rejected\""
   ]
  },
  {
   "cell_type": "markdown",
   "id": "2e3993df",
   "metadata": {},
   "source": [
    "#### string modification"
   ]
  },
  {
   "cell_type": "code",
   "execution_count": 38,
   "id": "2c42d9e8",
   "metadata": {},
   "outputs": [],
   "source": [
    "# str.maketrans() and str.translate()"
   ]
  },
  {
   "cell_type": "code",
   "execution_count": 40,
   "id": "3121466b",
   "metadata": {},
   "outputs": [
    {
     "data": {
      "text/plain": [
       "('!sfsdf^sdfg(sfds)!', '~sfsdf&sdfg[sfds]~')"
      ]
     },
     "execution_count": 40,
     "metadata": {},
     "output_type": "execute_result"
    }
   ],
   "source": [
    "str = \"!sfsdf^sdfg(sfds)!\"\n",
    "table = str.maketrans(\"!^()\", \"~&[]\")\n",
    "str, str.translate(table)"
   ]
  },
  {
   "cell_type": "code",
   "execution_count": 53,
   "id": "9bcee282",
   "metadata": {},
   "outputs": [
    {
     "data": {
      "text/plain": [
       "'bacd sfsdfd'"
      ]
     },
     "execution_count": 53,
     "metadata": {},
     "output_type": "execute_result"
    }
   ],
   "source": [
    "str = \"bacd\\tsfsdfd\"\n",
    "str.expandtabs(1)"
   ]
  },
  {
   "cell_type": "code",
   "execution_count": 59,
   "id": "2816a909",
   "metadata": {},
   "outputs": [
    {
     "data": {
      "text/plain": [
       "'##############bacd\\tsfsdfd###############'"
      ]
     },
     "execution_count": 59,
     "metadata": {},
     "output_type": "execute_result"
    }
   ],
   "source": [
    "str.center(40, \"#\")"
   ]
  },
  {
   "cell_type": "code",
   "execution_count": 60,
   "id": "016483ef",
   "metadata": {},
   "outputs": [
    {
     "data": {
      "text/plain": [
       "'bacd\\tsfsdfd$$$$$$$$$'"
      ]
     },
     "execution_count": 60,
     "metadata": {},
     "output_type": "execute_result"
    }
   ],
   "source": [
    "str.ljust(20, \"$\")"
   ]
  },
  {
   "cell_type": "code",
   "execution_count": 61,
   "id": "ee369709",
   "metadata": {},
   "outputs": [
    {
     "data": {
      "text/plain": [
       "'$$$$$$$$$bacd\\tsfsdfd'"
      ]
     },
     "execution_count": 61,
     "metadata": {},
     "output_type": "execute_result"
    }
   ],
   "source": [
    "str.rjust(20, \"$\")"
   ]
  },
  {
   "cell_type": "code",
   "execution_count": 66,
   "id": "2f34259b",
   "metadata": {},
   "outputs": [
    {
     "name": "stdout",
     "output_type": "stream",
     "text": [
      "00000008.3\n",
      "0000000008\n"
     ]
    }
   ],
   "source": [
    "print('8.3'.zfill(10))\n",
    "print('8'.zfill(10))"
   ]
  },
  {
   "cell_type": "markdown",
   "id": "17b1a328",
   "metadata": {},
   "source": [
    "### important string constants"
   ]
  },
  {
   "cell_type": "code",
   "execution_count": 75,
   "id": "da3940e4",
   "metadata": {},
   "outputs": [],
   "source": [
    "import string"
   ]
  },
  {
   "cell_type": "code",
   "execution_count": 90,
   "id": "531a3f05",
   "metadata": {},
   "outputs": [
    {
     "data": {
      "text/plain": [
       "(' \\t\\n\\r\\x0b\\x0c',\n",
       " '0123456789',\n",
       " '0123456789abcdefABCDEF',\n",
       " '01234567',\n",
       " 'abcdefghijklmnopqrstuvwxyz',\n",
       " 'ABCDEFGHIJKLMNOPQRSTUVWXYZ',\n",
       " 'abcdefghijklmnopqrstuvwxyzABCDEFGHIJKLMNOPQRSTUVWXYZ')"
      ]
     },
     "execution_count": 90,
     "metadata": {},
     "output_type": "execute_result"
    }
   ],
   "source": [
    "(string.whitespace,\n",
    " string.digits,\n",
    " string.hexdigits,\n",
    " string.octdigits,\n",
    " string.ascii_lowercase,\n",
    " string.ascii_uppercase,\n",
    " string.ascii_letters, )\n"
   ]
  },
  {
   "cell_type": "code",
   "execution_count": 91,
   "id": "3549931d",
   "metadata": {},
   "outputs": [
    {
     "data": {
      "text/plain": [
       "True"
      ]
     },
     "execution_count": 91,
     "metadata": {},
     "output_type": "execute_result"
    }
   ],
   "source": [
    "# the famous \"in\" operator \n",
    "\"a\" in \"krishna\""
   ]
  },
  {
   "cell_type": "code",
   "execution_count": 92,
   "id": "1cb0ce9d",
   "metadata": {},
   "outputs": [
    {
     "data": {
      "text/plain": [
       "True"
      ]
     },
     "execution_count": 92,
     "metadata": {},
     "output_type": "execute_result"
    }
   ],
   "source": [
    "\"rish\" in \"krishna\""
   ]
  },
  {
   "cell_type": "code",
   "execution_count": 93,
   "id": "338c5e82",
   "metadata": {},
   "outputs": [],
   "source": [
    "# Exercise :- \n",
    "#  some strings are begin or end with double quote\n",
    "# 1. only remove the double quotes\n",
    "x = ['\"abc\"', 'def', '\"ghi\"', '\"klm\"', 'nop']"
   ]
  },
  {
   "cell_type": "code",
   "execution_count": 95,
   "id": "c6f7b8c6",
   "metadata": {},
   "outputs": [
    {
     "data": {
      "text/plain": [
       "['abc', 'def', 'ghi', 'klm', 'nop']"
      ]
     },
     "execution_count": 95,
     "metadata": {},
     "output_type": "execute_result"
    }
   ],
   "source": [
    "for item in x:\n",
    "#     x[x.index(item)] = item.replace('\"', \"\")\n",
    "    x[x.index(item)] = item.strip('\"')\n",
    "x"
   ]
  },
  {
   "cell_type": "code",
   "execution_count": 97,
   "id": "3626a287",
   "metadata": {},
   "outputs": [
    {
     "name": "stdout",
     "output_type": "stream",
     "text": [
      "9\n",
      "9\n"
     ]
    }
   ],
   "source": [
    "# program to find the last P in the word :- Mississippi\n",
    "str = \"Mississippi\"\n",
    "print(str.rfind(\"p\"))\n",
    "print(str.rindex(\"p\"))"
   ]
  },
  {
   "cell_type": "code",
   "execution_count": 100,
   "id": "e41b11d9",
   "metadata": {},
   "outputs": [
    {
     "data": {
      "text/plain": [
       "'Mississipi'"
      ]
     },
     "execution_count": 100,
     "metadata": {},
     "output_type": "execute_result"
    }
   ],
   "source": [
    "# now remove only that letter i.e last p\n",
    "str_list = list(str)\n",
    "str_list[str.rfind(\"p\")] = ''\n",
    "\"\".join(str_list)\n"
   ]
  },
  {
   "cell_type": "code",
   "execution_count": 108,
   "id": "67af74b9",
   "metadata": {},
   "outputs": [
    {
     "data": {
      "text/plain": [
       "'Mississipi'"
      ]
     },
     "execution_count": 108,
     "metadata": {},
     "output_type": "execute_result"
    }
   ],
   "source": [
    "pos = str.rindex(\"p\")\n",
    "new_str = str[:pos] + str[pos+1:]\n",
    "new_str"
   ]
  },
  {
   "cell_type": "code",
   "execution_count": 103,
   "id": "a5f29137",
   "metadata": {},
   "outputs": [
    {
     "data": {
      "text/plain": [
       "'abcdefghiklmnop'"
      ]
     },
     "execution_count": 103,
     "metadata": {},
     "output_type": "execute_result"
    }
   ],
   "source": [
    "x = ['\"abc\"', 'def', '\"ghi\"', '\"klm\"', 'nop']\n",
    "\"\".join(x).replace('\"', \"\")"
   ]
  },
  {
   "cell_type": "markdown",
   "id": "0529d2a8",
   "metadata": {},
   "source": [
    "### converting object to strings"
   ]
  },
  {
   "cell_type": "code",
   "execution_count": 111,
   "id": "c62198d5",
   "metadata": {},
   "outputs": [
    {
     "ename": "TypeError",
     "evalue": "can only concatenate list (not \"int\") to list",
     "output_type": "error",
     "traceback": [
      "\u001b[0;31m---------------------------------------------------------------------------\u001b[0m",
      "\u001b[0;31mTypeError\u001b[0m                                 Traceback (most recent call last)",
      "\u001b[0;32m<ipython-input-111-4dcbbb963d15>\u001b[0m in \u001b[0;36m<module>\u001b[0;34m\u001b[0m\n\u001b[0;32m----> 1\u001b[0;31m \u001b[0;34m[\u001b[0m\u001b[0;36m1\u001b[0m\u001b[0;34m,\u001b[0m\u001b[0;36m2\u001b[0m\u001b[0;34m]\u001b[0m \u001b[0;34m+\u001b[0m \u001b[0;36m3\u001b[0m\u001b[0;34m\u001b[0m\u001b[0;34m\u001b[0m\u001b[0m\n\u001b[0m",
      "\u001b[0;31mTypeError\u001b[0m: can only concatenate list (not \"int\") to list"
     ]
    }
   ],
   "source": [
    "[1,2] + 3"
   ]
  },
  {
   "cell_type": "code",
   "execution_count": 112,
   "id": "f93f8399",
   "metadata": {},
   "outputs": [
    {
     "ename": "TypeError",
     "evalue": "must be str, not int",
     "output_type": "error",
     "traceback": [
      "\u001b[0;31m---------------------------------------------------------------------------\u001b[0m",
      "\u001b[0;31mTypeError\u001b[0m                                 Traceback (most recent call last)",
      "\u001b[0;32m<ipython-input-112-28e8a14064d8>\u001b[0m in \u001b[0;36m<module>\u001b[0;34m\u001b[0m\n\u001b[0;32m----> 1\u001b[0;31m \u001b[0;34m'string'\u001b[0m \u001b[0;34m+\u001b[0m \u001b[0;36m3\u001b[0m\u001b[0;34m\u001b[0m\u001b[0;34m\u001b[0m\u001b[0m\n\u001b[0m",
      "\u001b[0;31mTypeError\u001b[0m: must be str, not int"
     ]
    }
   ],
   "source": [
    "'string' + 3"
   ]
  },
  {
   "cell_type": "code",
   "execution_count": 113,
   "id": "31b4ca3c",
   "metadata": {},
   "outputs": [],
   "source": [
    "# repr -- representation function is used to convert almost any python object to its corresponding string type"
   ]
  },
  {
   "cell_type": "code",
   "execution_count": 115,
   "id": "f9e2eef7",
   "metadata": {},
   "outputs": [
    {
     "data": {
      "text/plain": [
       "('3', '[1, 2, 3, 4]')"
      ]
     },
     "execution_count": 115,
     "metadata": {},
     "output_type": "execute_result"
    }
   ],
   "source": [
    "repr(3), repr([1,2,3,4])"
   ]
  },
  {
   "cell_type": "code",
   "execution_count": 116,
   "id": "7e84c2ac",
   "metadata": {},
   "outputs": [
    {
     "data": {
      "text/plain": [
       "'<built-in function len>'"
      ]
     },
     "execution_count": 116,
     "metadata": {},
     "output_type": "execute_result"
    }
   ],
   "source": [
    "repr(len)"
   ]
  },
  {
   "cell_type": "code",
   "execution_count": 119,
   "id": "ae4e83a8",
   "metadata": {},
   "outputs": [
    {
     "data": {
      "text/plain": [
       "(\"<class 'list'>\", \"<class 'int'>\")"
      ]
     },
     "execution_count": 119,
     "metadata": {},
     "output_type": "execute_result"
    }
   ],
   "source": [
    "repr(list), repr(int)"
   ]
  },
  {
   "cell_type": "code",
   "execution_count": 121,
   "id": "90f42908",
   "metadata": {},
   "outputs": [
    {
     "data": {
      "text/plain": [
       "(\"'abcdefghijklmnopqrstuvwxyz'\", \"'0123456789'\")"
      ]
     },
     "execution_count": 121,
     "metadata": {},
     "output_type": "execute_result"
    }
   ],
   "source": [
    "repr(string.ascii_lowercase), repr(string.digits)"
   ]
  },
  {
   "cell_type": "code",
   "execution_count": 123,
   "id": "5d26fa71",
   "metadata": {},
   "outputs": [
    {
     "data": {
      "text/plain": [
       "'[\\'\"abc\"\\', \\'def\\', \\'\"ghi\"\\', \\'\"klm\"\\', \\'nop\\']'"
      ]
     },
     "execution_count": 123,
     "metadata": {},
     "output_type": "execute_result"
    }
   ],
   "source": [
    "repr(x)"
   ]
  },
  {
   "cell_type": "code",
   "execution_count": 125,
   "id": "f70db743",
   "metadata": {
    "collapsed": true
   },
   "outputs": [
    {
     "ename": "SyntaxError",
     "evalue": "invalid syntax (<ipython-input-125-17b33ded714b>, line 1)",
     "output_type": "error",
     "traceback": [
      "\u001b[0;36m  File \u001b[0;32m\"<ipython-input-125-17b33ded714b>\"\u001b[0;36m, line \u001b[0;32m1\u001b[0m\n\u001b[0;31m    repr, formal string representation of a python object\u001b[0m\n\u001b[0m                      ^\u001b[0m\n\u001b[0;31mSyntaxError\u001b[0m\u001b[0;31m:\u001b[0m invalid syntax\n"
     ]
    }
   ],
   "source": [
    "repr, formal string representation of a python object"
   ]
  },
  {
   "cell_type": "code",
   "execution_count": 195,
   "id": "0f4a3509",
   "metadata": {},
   "outputs": [
    {
     "data": {
      "text/plain": [
       "'<built-in function repr>'"
      ]
     },
     "execution_count": 195,
     "metadata": {},
     "output_type": "execute_result"
    }
   ],
   "source": [
    "repr(repr)"
   ]
  },
  {
   "cell_type": "code",
   "execution_count": 129,
   "id": "2e860dc1",
   "metadata": {},
   "outputs": [
    {
     "data": {
      "text/plain": [
       "'Mississippi'"
      ]
     },
     "execution_count": 129,
     "metadata": {},
     "output_type": "execute_result"
    }
   ],
   "source": [
    "str"
   ]
  },
  {
   "cell_type": "code",
   "execution_count": 130,
   "id": "93e87651",
   "metadata": {},
   "outputs": [
    {
     "ename": "SyntaxError",
     "evalue": "illegal target for annotation (<ipython-input-130-9dd039f3bd71>, line 1)",
     "output_type": "error",
     "traceback": [
      "\u001b[0;36m  File \u001b[0;32m\"<ipython-input-130-9dd039f3bd71>\"\u001b[0;36m, line \u001b[0;32m1\u001b[0m\n\u001b[0;31m    \"krishna\":10\u001b[0m\n\u001b[0m                ^\u001b[0m\n\u001b[0;31mSyntaxError\u001b[0m\u001b[0;31m:\u001b[0m illegal target for annotation\n"
     ]
    }
   ],
   "source": [
    "\"krishna\":10"
   ]
  },
  {
   "cell_type": "markdown",
   "id": "803d9ff0",
   "metadata": {},
   "source": [
    "### format specifier"
   ]
  },
  {
   "cell_type": "code",
   "execution_count": 144,
   "id": "c09322e4",
   "metadata": {},
   "outputs": [],
   "source": [
    "# Exercise :-\n",
    "x= '{1:{0}}'.format(13,3)"
   ]
  },
  {
   "cell_type": "code",
   "execution_count": 145,
   "id": "6b7b4574",
   "metadata": {},
   "outputs": [
    {
     "data": {
      "text/plain": [
       "'            3'"
      ]
     },
     "execution_count": 145,
     "metadata": {},
     "output_type": "execute_result"
    }
   ],
   "source": [
    "x"
   ]
  },
  {
   "cell_type": "code",
   "execution_count": 146,
   "id": "6b3cbff3",
   "metadata": {},
   "outputs": [
    {
     "data": {
      "text/plain": [
       "'&&&&3'"
      ]
     },
     "execution_count": 146,
     "metadata": {},
     "output_type": "execute_result"
    }
   ],
   "source": [
    "'{0:&>5}'.format(3)"
   ]
  },
  {
   "cell_type": "code",
   "execution_count": 152,
   "id": "294b7be3",
   "metadata": {},
   "outputs": [
    {
     "data": {
      "text/plain": [
       "'####1'"
      ]
     },
     "execution_count": 152,
     "metadata": {},
     "output_type": "execute_result"
    }
   ],
   "source": [
    "'{a:#>{b}}'.format(a=1, b=5)"
   ]
  },
  {
   "cell_type": "code",
   "execution_count": 205,
   "id": "32ed1b89",
   "metadata": {},
   "outputs": [
    {
     "data": {
      "text/plain": [
       "'    1:$$$$3'"
      ]
     },
     "execution_count": 205,
     "metadata": {},
     "output_type": "execute_result"
    }
   ],
   "source": [
    "\"{a:{b}}:{0:$>5}\".format(3, 4, a=1, b=5, c=10)"
   ]
  },
  {
   "cell_type": "code",
   "execution_count": 155,
   "id": "864d58a0",
   "metadata": {},
   "outputs": [],
   "source": [
    "# {a:{b}} -- a is the variable name and b is also the variable but will be used for justification only\n",
    "# {a:>{b}} -- a is the main variable name and b is for the justification is >/< is not mentioned than \n",
    "# it automaticaly adjusted based on int or string type, but for > -- right justtification and < left justification\n",
    "\n"
   ]
  },
  {
   "cell_type": "code",
   "execution_count": 157,
   "id": "523d2bba",
   "metadata": {},
   "outputs": [
    {
     "data": {
      "text/plain": [
       "'list contains [1, 1, 2]'"
      ]
     },
     "execution_count": 157,
     "metadata": {},
     "output_type": "execute_result"
    }
   ],
   "source": [
    "\"{a} contains {b}\".format(a=\"list\", b=[1,1,2]) # str is already applied to these variables,\n",
    "# no need to externally convert them"
   ]
  },
  {
   "cell_type": "code",
   "execution_count": 209,
   "id": "c2e7fe9c",
   "metadata": {},
   "outputs": [
    {
     "data": {
      "text/plain": [
       "'Pi is <3     >'"
      ]
     },
     "execution_count": 209,
     "metadata": {},
     "output_type": "execute_result"
    }
   ],
   "source": [
    "\"Pi is <%-6d>\" % 3.14159\n",
    "# s - string \n",
    "# f- floating point\n",
    "# d - integers\n",
    "# - after % represent left allignment or justification"
   ]
  },
  {
   "cell_type": "code",
   "execution_count": 251,
   "id": "4e2f93c6",
   "metadata": {},
   "outputs": [],
   "source": [
    "x = \"%.2f\" % 1.1111\n",
    "y = \"%(a).2f\" % {'a':1.1111}\n",
    "z = \"%(a).08f\" % {'a':1.1111}"
   ]
  },
  {
   "cell_type": "code",
   "execution_count": 252,
   "id": "4a8d87fe",
   "metadata": {},
   "outputs": [
    {
     "data": {
      "text/plain": [
       "('1.11', '1.11', '1.11110000')"
      ]
     },
     "execution_count": 252,
     "metadata": {},
     "output_type": "execute_result"
    }
   ],
   "source": [
    "x,y,z"
   ]
  },
  {
   "cell_type": "code",
   "execution_count": 193,
   "id": "d2891cb1",
   "metadata": {},
   "outputs": [
    {
     "data": {
      "text/plain": [
       "'<      3.12>'"
      ]
     },
     "execution_count": 193,
     "metadata": {},
     "output_type": "execute_result"
    }
   ],
   "source": [
    "\n",
    "\"<%(a)10.2f>\"%{'a':3.123}"
   ]
  },
  {
   "cell_type": "code",
   "execution_count": 204,
   "id": "43c58130",
   "metadata": {},
   "outputs": [
    {
     "data": {
      "text/plain": [
       "'apple$$$$$ is the food of gods'"
      ]
     },
     "execution_count": 204,
     "metadata": {},
     "output_type": "execute_result"
    }
   ],
   "source": [
    "\"{0:$<{1}} is the food of {2}\".format(\"apple\",10, \"gods\")"
   ]
  },
  {
   "cell_type": "code",
   "execution_count": 206,
   "id": "15faed08",
   "metadata": {},
   "outputs": [
    {
     "data": {
      "text/plain": [
       "'[1, 2, 3] is a list'"
      ]
     },
     "execution_count": 206,
     "metadata": {},
     "output_type": "execute_result"
    }
   ],
   "source": [
    "\"%s is a list\" % ([1,2,3])"
   ]
  },
  {
   "cell_type": "code",
   "execution_count": 207,
   "id": "9e5fe923",
   "metadata": {},
   "outputs": [
    {
     "data": {
      "text/plain": [
       "'[1, 2, 3] is a list'"
      ]
     },
     "execution_count": 207,
     "metadata": {},
     "output_type": "execute_result"
    }
   ],
   "source": [
    "\"{0} is a list\".format([1,2,3])"
   ]
  },
  {
   "cell_type": "code",
   "execution_count": 213,
   "id": "4f679bc6",
   "metadata": {},
   "outputs": [
    {
     "data": {
      "text/plain": [
       "' value of pi is <3.14  >'"
      ]
     },
     "execution_count": 213,
     "metadata": {},
     "output_type": "execute_result"
    }
   ],
   "source": [
    "\" value of pi is <%-6.2f>\" % 3.14159"
   ]
  },
  {
   "cell_type": "code",
   "execution_count": 229,
   "id": "84afc2e6",
   "metadata": {},
   "outputs": [
    {
     "data": {
      "text/plain": [
       "' value of pi is <0001233>'"
      ]
     },
     "execution_count": 229,
     "metadata": {},
     "output_type": "execute_result"
    }
   ],
   "source": [
    "\" value of pi is <%-6.7d>\" % 1233.14159"
   ]
  },
  {
   "cell_type": "code",
   "execution_count": 235,
   "id": "1e2317af",
   "metadata": {},
   "outputs": [
    {
     "name": "stdout",
     "output_type": "stream",
     "text": [
      "pi = 3.14    and exponent = 2.72\n"
     ]
    }
   ],
   "source": [
    "num_dict = {\"pi\" : 3.14, \"e\" : 2.718}\n",
    "print(\"pi = %(pi)-7.2f and exponent = %(e).2f\" % num_dict)\n"
   ]
  },
  {
   "cell_type": "code",
   "execution_count": 237,
   "id": "318d8276",
   "metadata": {},
   "outputs": [
    {
     "name": "stdout",
     "output_type": "stream",
     "text": [
      "abc"
     ]
    }
   ],
   "source": [
    "print(\"a\", end=\"\")\n",
    "print(\"b\", end=\"\")\n",
    "print(\"c\", end=\"\")"
   ]
  },
  {
   "cell_type": "code",
   "execution_count": 248,
   "id": "492d7c1d",
   "metadata": {},
   "outputs": [],
   "source": [
    "print(\"can use the print function to directly write to a fil\", file=open(\"new_print_check.txt\", \"a\"))"
   ]
  },
  {
   "cell_type": "code",
   "execution_count": 268,
   "id": "79ac13c0",
   "metadata": {},
   "outputs": [
    {
     "name": "stdout",
     "output_type": "stream",
     "text": [
      "the value of pi is 3.1416####\n"
     ]
    }
   ],
   "source": [
    "pi = 3.14159\n",
    "print(f\"the value of pi is {pi:#<{10}.{5}}\")"
   ]
  },
  {
   "cell_type": "code",
   "execution_count": 270,
   "id": "d9cd9281",
   "metadata": {},
   "outputs": [],
   "source": [
    "var = \"krishna\"\n",
    "var_byte = var.encode()"
   ]
  },
  {
   "cell_type": "code",
   "execution_count": 271,
   "id": "1fd1dbcd",
   "metadata": {},
   "outputs": [
    {
     "name": "stdout",
     "output_type": "stream",
     "text": [
      "b'krishna'\n"
     ]
    }
   ],
   "source": [
    "print(var_byte)"
   ]
  },
  {
   "cell_type": "code",
   "execution_count": 272,
   "id": "ed81d7a8",
   "metadata": {},
   "outputs": [
    {
     "data": {
      "text/plain": [
       "'krishna'"
      ]
     },
     "execution_count": 272,
     "metadata": {},
     "output_type": "execute_result"
    }
   ],
   "source": [
    "var_byte.decode()"
   ]
  },
  {
   "cell_type": "code",
   "execution_count": 276,
   "id": "3c16486e",
   "metadata": {},
   "outputs": [
    {
     "data": {
      "text/plain": [
       "(str, bytes)"
      ]
     },
     "execution_count": 276,
     "metadata": {},
     "output_type": "execute_result"
    }
   ],
   "source": [
    "type(var), type(var_byte)"
   ]
  },
  {
   "cell_type": "markdown",
   "id": "bd411ce8",
   "metadata": {},
   "source": [
    "### Lab_06"
   ]
  },
  {
   "cell_type": "code",
   "execution_count": 277,
   "id": "b5e991a0",
   "metadata": {},
   "outputs": [
    {
     "name": "stdout",
     "output_type": "stream",
     "text": [
      "'chap_5 list_tuple_sets.ipynb'   lab_05.txt     new_print_check.txt\r\n",
      "'chapter_6 Strings.ipynb'        \u001b[0m\u001b[01;32mmoby_01.txt\u001b[0m*   Untitled.ipynb\r\n"
     ]
    }
   ],
   "source": [
    "%ls"
   ]
  },
  {
   "cell_type": "code",
   "execution_count": 298,
   "id": "7da236d9",
   "metadata": {},
   "outputs": [
    {
     "name": "stdout",
     "output_type": "stream",
     "text": [
      "['call', 'me', 'ishmael', 'some', 'years', 'agonever', 'mind', 'how', 'long', 'precisely']\n",
      "['having', 'little', 'or', 'no', 'money', 'in', 'my', 'purse', 'and', 'nothing', 'particular']\n",
      "['to', 'interest', 'me', 'on', 'shore', 'i', 'thought', 'i', 'would', 'sail', 'about', 'a', 'little']\n",
      "['and', 'see', 'the', 'watery', 'part', 'of', 'the', 'world', 'it', 'is', 'a', 'way', 'i', 'have']\n",
      "['of', 'driving', 'off', 'the', 'spleen', 'and', 'regulating', 'the', 'circulation']\n",
      "['whenever', 'i', 'find', 'myself', 'growing', 'grim', 'about', 'the', 'mouth']\n",
      "['whenever', 'it', 'is', 'a', 'damp', 'drizzly', 'november', 'in', 'my', 'soul', 'whenever', 'i']\n",
      "['find', 'myself', 'involuntarily', 'pausing', 'before', 'coffin', 'warehouses']\n",
      "['and', 'bringing', 'up', 'the', 'rear', 'of', 'every', 'funeral', 'i', 'meet']\n",
      "['and', 'especially', 'whenever', 'my', 'hypos', 'get', 'such', 'an', 'upper', 'hand', 'of', 'me']\n",
      "['that', 'it', 'requires', 'a', 'strong', 'moral', 'principle', 'to', 'prevent', 'me', 'from']\n",
      "['deliberately', 'stepping', 'into', 'the', 'street', 'and', 'methodically', 'knocking']\n",
      "['peoples', 'hats', 'offthen', 'i', 'account', 'it', 'high', 'time', 'to', 'get', 'to', 'sea']\n",
      "['as', 'soon', 'as', 'i', 'can', 'this', 'is', 'my', 'substitute', 'for', 'pistol', 'and', 'ball']\n",
      "['with', 'a', 'philosophical', 'flourish', 'cato', 'throws', 'himself', 'upon', 'his', 'sword']\n",
      "['i', 'quietly', 'take', 'to', 'the', 'ship', 'there', 'is', 'nothing', 'surprising', 'in', 'this']\n",
      "['if', 'they', 'but', 'knew', 'it', 'almost', 'all', 'men', 'in', 'their', 'degree', 'some', 'time']\n",
      "['or', 'other', 'cherish', 'very', 'nearly', 'the', 'same', 'feelings', 'towards']\n",
      "['the', 'ocean', 'with', 'me']\n",
      "[]\n",
      "['there', 'now', 'is', 'your', 'insular', 'city', 'of', 'the', 'manhattoes', 'belted', 'round', 'by', 'wharves']\n",
      "['as', 'indian', 'isles', 'by', 'coral', 'reefscommerce', 'surrounds', 'it', 'with', 'her', 'surf']\n",
      "['right', 'and', 'left', 'the', 'streets', 'take', 'you', 'waterward', 'its', 'extreme', 'downtown']\n",
      "['is', 'the', 'battery', 'where', 'that', 'noble', 'mole', 'is', 'washed', 'by', 'waves', 'and', 'cooled']\n",
      "['by', 'breezes', 'which', 'a', 'few', 'hours', 'previous', 'were', 'out', 'of', 'sight', 'of', 'land']\n",
      "['look', 'at', 'the', 'crowds', 'of', 'watergazers', 'there']\n"
     ]
    }
   ],
   "source": [
    "# read from a file\n",
    "# make everything in a single case\n",
    "# remove all the puntuactions\n",
    "# split every words from a line\n",
    "# write all words for a line to a secound file\n",
    "table=''\n",
    "with open(\"moby_01.txt\", \"r\") as infile, open(\"moby_01_cleaned_file.txt\", \"w\") as outfile:\n",
    "    for line in infile:\n",
    "        line_lower = line.lower()\n",
    "        \n",
    "#         table = line_lower.maketrans(\"'-,.;\", \"     \")\n",
    "#         table = line_lower.maketrans({\"'\":None,\n",
    "#  '-':None,\n",
    "#  ',':None,\n",
    "#  '.':None,\n",
    "#  ';':None \n",
    "# })\n",
    "        table= \"\".maketrans(\"\", \"\", \"'-,.;\")\n",
    "        new_line = line_lower.translate(table)\n",
    "        \n",
    "        word_bag_per_line = new_line.split()\n",
    "        print(word_bag_per_line)\n",
    "        \n",
    "        outfile.write(\" \".join(word_bag_per_line))"
   ]
  },
  {
   "cell_type": "code",
   "execution_count": 288,
   "id": "1433a7ab",
   "metadata": {},
   "outputs": [
    {
     "data": {
      "text/plain": [
       "{33: None, 46: None, 44: None, 58: None, 59: None, 45: None, 63: None}"
      ]
     },
     "execution_count": 288,
     "metadata": {},
     "output_type": "execute_result"
    }
   ],
   "source": [
    "str.maketrans(\"\", \"\", \"!.,:;-?\")"
   ]
  },
  {
   "cell_type": "code",
   "execution_count": 291,
   "id": "bd637b2f",
   "metadata": {},
   "outputs": [
    {
     "data": {
      "text/plain": [
       "{39: 32, 45: 32, 44: 32, 46: 32, 59: 32}"
      ]
     },
     "execution_count": 291,
     "metadata": {},
     "output_type": "execute_result"
    }
   ],
   "source": [
    "table"
   ]
  },
  {
   "cell_type": "code",
   "execution_count": null,
   "id": "0a1637b1",
   "metadata": {},
   "outputs": [],
   "source": [
    "\n"
   ]
  }
 ],
 "metadata": {
  "kernelspec": {
   "display_name": "Python 3",
   "language": "python",
   "name": "python3"
  },
  "language_info": {
   "codemirror_mode": {
    "name": "ipython",
    "version": 3
   },
   "file_extension": ".py",
   "mimetype": "text/x-python",
   "name": "python",
   "nbconvert_exporter": "python",
   "pygments_lexer": "ipython3",
   "version": "3.6.9"
  }
 },
 "nbformat": 4,
 "nbformat_minor": 5
}
