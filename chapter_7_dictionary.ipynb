{
 "cells": [
  {
   "cell_type": "code",
   "execution_count": 28,
   "id": "68e2feab",
   "metadata": {},
   "outputs": [],
   "source": [
    "%config Completer.use_jedi = False"
   ]
  },
  {
   "cell_type": "code",
   "execution_count": 1,
   "id": "f00e4f1b",
   "metadata": {},
   "outputs": [],
   "source": [
    "x = [] # empty list\n",
    "y ={} # empty dict"
   ]
  },
  {
   "cell_type": "code",
   "execution_count": 2,
   "id": "0513029a",
   "metadata": {},
   "outputs": [],
   "source": [
    "y[0] = \"hello\"\n",
    "y[1] =\"goodbye\" # assigning values to empty dicts"
   ]
  },
  {
   "cell_type": "code",
   "execution_count": 3,
   "id": "3a170871",
   "metadata": {},
   "outputs": [
    {
     "ename": "IndexError",
     "evalue": "list assignment index out of range",
     "output_type": "error",
     "traceback": [
      "\u001b[0;31m---------------------------------------------------------------------------\u001b[0m",
      "\u001b[0;31mIndexError\u001b[0m                                Traceback (most recent call last)",
      "\u001b[0;32m<ipython-input-3-7f76bba645fc>\u001b[0m in \u001b[0;36m<module>\u001b[0;34m\u001b[0m\n\u001b[0;32m----> 1\u001b[0;31m \u001b[0mx\u001b[0m\u001b[0;34m[\u001b[0m\u001b[0;36m0\u001b[0m\u001b[0;34m]\u001b[0m \u001b[0;34m=\u001b[0m\u001b[0;34m\" hello\"\u001b[0m\u001b[0;34m\u001b[0m\u001b[0;34m\u001b[0m\u001b[0m\n\u001b[0m",
      "\u001b[0;31mIndexError\u001b[0m: list assignment index out of range"
     ]
    }
   ],
   "source": [
    "x[0] =\" hello\" # assigning values to empty lists"
   ]
  },
  {
   "cell_type": "code",
   "execution_count": 20,
   "id": "1da96660",
   "metadata": {},
   "outputs": [
    {
     "name": "stdout",
     "output_type": "stream",
     "text": [
      "please enter any three names :- k, asdsf, we\n",
      "please enter corresponding 3 ages:- 23,234,545\n",
      "enter the name, you wwant to get age :- k\n",
      "age = 23 \n"
     ]
    }
   ],
   "source": [
    "#  Exercise 1:-\n",
    "dict_name_age = {}\n",
    "names = input(\"please enter any three names :- \").lower().split(\", \")\n",
    "ages = input(\"please enter corresponding 3 ages:- \").split(\",\")\n",
    "\n",
    "# for name, age in zip(names, ages):\n",
    "#     dict_name_age[name] = int(age)\n",
    "\n",
    "dict_name_age = dict(zip(names, ages))\n",
    "\n",
    "print(f\"age = {dict_name_age[input('enter the name, you wwant to get age :- ')]} \")"
   ]
  },
  {
   "cell_type": "code",
   "execution_count": 19,
   "id": "4f8208dc",
   "metadata": {},
   "outputs": [
    {
     "data": {
      "text/plain": [
       "{}"
      ]
     },
     "execution_count": 19,
     "metadata": {},
     "output_type": "execute_result"
    }
   ],
   "source": [
    "dict_name_age"
   ]
  },
  {
   "cell_type": "code",
   "execution_count": 23,
   "id": "5a45d8a3",
   "metadata": {},
   "outputs": [
    {
     "data": {
      "text/plain": [
       "['k', 'asdsf', 'we']"
      ]
     },
     "execution_count": 23,
     "metadata": {},
     "output_type": "execute_result"
    }
   ],
   "source": [
    "list(dict_name_age.keys())"
   ]
  },
  {
   "cell_type": "code",
   "execution_count": 25,
   "id": "e9f83f78",
   "metadata": {},
   "outputs": [
    {
     "data": {
      "text/plain": [
       "'undefined'"
      ]
     },
     "execution_count": 25,
     "metadata": {},
     "output_type": "execute_result"
    }
   ],
   "source": [
    "dict_name_age.setdefault(\"Krishna\", \"undefined\")"
   ]
  },
  {
   "cell_type": "code",
   "execution_count": 26,
   "id": "476cb27d",
   "metadata": {},
   "outputs": [
    {
     "data": {
      "text/plain": [
       "{'k': '23', 'asdsf': '234', 'we': '545', 'Krishna': 'undefined'}"
      ]
     },
     "execution_count": 26,
     "metadata": {},
     "output_type": "execute_result"
    }
   ],
   "source": [
    "dict_name_age"
   ]
  },
  {
   "cell_type": "code",
   "execution_count": 27,
   "id": "37423678",
   "metadata": {},
   "outputs": [
    {
     "data": {
      "text/plain": [
       "'23'"
      ]
     },
     "execution_count": 27,
     "metadata": {},
     "output_type": "execute_result"
    }
   ],
   "source": [
    "dict_name_age.setdefault(\"k\", \"not present\")"
   ]
  },
  {
   "cell_type": "code",
   "execution_count": 31,
   "id": "dbab0dce",
   "metadata": {},
   "outputs": [],
   "source": [
    "dict_name_age.update({\"method\":\"update\", \"k\":\"24\"})"
   ]
  },
  {
   "cell_type": "code",
   "execution_count": 32,
   "id": "97ae1c6e",
   "metadata": {},
   "outputs": [
    {
     "data": {
      "text/plain": [
       "{'k': '24',\n",
       " 'asdsf': '234',\n",
       " 'we': '545',\n",
       " 'Krishna': 'undefined',\n",
       " 'method': 'update'}"
      ]
     },
     "execution_count": 32,
     "metadata": {},
     "output_type": "execute_result"
    }
   ],
   "source": [
    "dict_name_age"
   ]
  },
  {
   "cell_type": "markdown",
   "id": "08252f6a",
   "metadata": {},
   "source": [
    "### word counting"
   ]
  },
  {
   "cell_type": "markdown",
   "id": "068b41d2",
   "metadata": {},
   "source": [
    "-- in file, one word per line<br/>\n",
    "--count the number of times each word appeared"
   ]
  },
  {
   "cell_type": "code",
   "execution_count": 36,
   "id": "66fc8898",
   "metadata": {},
   "outputs": [],
   "source": [
    "with open(\"moby_01_cleaned_file.txt\", \"r\") as infile, open(\"moby_01_word_each_line.txt\", \"w\") as outfile:\n",
    "    for line in infile:\n",
    "        word_bag = line.split(\" \")\n",
    "        \n",
    "        outfile.write(\"\\n\".join(word_bag))"
   ]
  },
  {
   "cell_type": "code",
   "execution_count": 42,
   "id": "4eb65adc",
   "metadata": {},
   "outputs": [
    {
     "name": "stdout",
     "output_type": "stream",
     "text": [
      "{'call': 1, 'me': 4, 'ishmael': 1, 'some': 2, 'years': 1, 'agonever': 1, 'mind': 1, 'how': 1, 'long': 1, 'precisely': 1, 'having': 1, 'little': 2, 'or': 1, 'no': 1, 'money': 1, 'in': 4, 'my': 4, 'purse': 1, 'and': 9, 'nothing': 2, 'particular': 1, 'to': 5, 'interest': 1, 'on': 1, 'shore': 1, 'i': 8, 'thought': 1, 'would': 1, 'sail': 1, 'about': 2, 'a': 6, 'see': 1, 'the': 14, 'watery': 1, 'part': 1, 'of': 8, 'world': 1, 'it': 6, 'is': 6, 'way': 1, 'have': 1, 'driving': 1, 'off': 1, 'spleen': 1, 'regulating': 1, 'circulation': 1, 'whenever': 4, 'find': 2, 'myself': 2, 'growing': 1, 'grim': 1, 'mouth': 1, 'damp': 1, 'drizzly': 1, 'november': 1, 'soul': 1, 'involuntarily': 1, 'pausing': 1, 'before': 1, 'coffin': 1, 'warehouses': 1, 'bringing': 1, 'up': 1, 'rear': 1, 'every': 1, 'funeral': 1, 'meet': 1, 'especially': 1, 'hypos': 1, 'get': 2, 'such': 1, 'an': 1, 'upper': 1, 'hand': 1, 'methat': 1, 'requires': 1, 'strong': 1, 'moral': 1, 'principle': 1, 'prevent': 1, 'fromde': 1, 'liberately': 1, 'stepping': 1, 'into': 1, 'street': 1, 'methodically': 1, 'knocking': 1, 'peoples': 1, 'hats': 1, 'offthen': 1, 'account': 1, 'high': 1, 'time': 1, 'seaas': 1, 'soon': 1, 'as': 2, 'can': 1, 'this': 2, 'substitute': 1, 'for': 1, 'pistol': 1, 'ball': 1, 'with': 3, 'philosophical': 1, 'flourish': 1, 'cato': 1, 'throws': 1, 'himself': 1, 'upon': 1, 'his': 1, 'swordi': 1, 'quietly': 1, 'take': 2, 'ship': 1, 'there': 3, 'surprising': 1, 'if': 1, 'they': 1, 'but': 1, 'knew': 1, 'almost': 1, 'all': 1, 'men': 1, 'their': 1, 'degree': 1, 'timeor': 1, 'other': 1, 'cherish': 1, 'very': 1, 'nearly': 1, 'same': 1, 'feelings': 1, 'towards': 1, 'ocean': 1, 'now': 1, 'your': 1, 'insular': 1, 'city': 1, 'man': 1, 'hattoes': 1, 'belted': 1, 'round': 1, 'by': 4, 'where': 2, 'indian': 1, 'isles': 1, 'coral': 1, 'reefs': 1, 'commerce': 1, 'surrounds': 1, 'her': 1, 'surfright': 1, 'left': 1, 'streets': 1, 'you': 1, 'water': 2, 'ward': 1, 'its': 1, 'extreme': 1, 'downtownis': 1, 'battery': 1, 'that': 1, 'noble': 1, 'mole': 1, 'washed': 1, 'waves': 1, 'cooled': 1, 'breezes': 1, 'which': 1, 'few': 1, 'hours': 1, 'previous': 1, 'were': 1, 'out': 1, 'sight': 1, 'land': 1, 'look': 1, 'at': 1, 'crowds': 1, 'gazers': 1}\n"
     ]
    }
   ],
   "source": [
    "# now start counting\n",
    "word_bag = {}\n",
    "with open(\"moby_01_word_each_line.txt\", \"r\") as readfile:\n",
    "    for word in readfile:\n",
    "        word = word.strip(\"\\n\")\n",
    "        word_bag[word] = word_bag.get(word, 0) + 1\n",
    "print(word_bag)"
   ]
  },
  {
   "cell_type": "code",
   "execution_count": 43,
   "id": "74fc79b7",
   "metadata": {},
   "outputs": [
    {
     "ename": "AttributeError",
     "evalue": "'dict' object has no attribute 'count'",
     "output_type": "error",
     "traceback": [
      "\u001b[0;31m---------------------------------------------------------------------------\u001b[0m",
      "\u001b[0;31mAttributeError\u001b[0m                            Traceback (most recent call last)",
      "\u001b[0;32m<ipython-input-43-4fd1ef8834b2>\u001b[0m in \u001b[0;36m<module>\u001b[0;34m\u001b[0m\n\u001b[0;32m----> 1\u001b[0;31m \u001b[0mdict_name_age\u001b[0m\u001b[0;34m.\u001b[0m\u001b[0mcount\u001b[0m\u001b[0;34m(\u001b[0m\u001b[0;34m\"K\"\u001b[0m\u001b[0;34m)\u001b[0m\u001b[0;34m\u001b[0m\u001b[0;34m\u001b[0m\u001b[0m\n\u001b[0m",
      "\u001b[0;31mAttributeError\u001b[0m: 'dict' object has no attribute 'count'"
     ]
    }
   ],
   "source": [
    "dict_name_age.count(\"K\")"
   ]
  },
  {
   "cell_type": "markdown",
   "id": "d63c9b94",
   "metadata": {},
   "source": [
    "### use dict as a caching "
   ]
  },
  {
   "cell_type": "code",
   "execution_count": 49,
   "id": "a60a4ada",
   "metadata": {},
   "outputs": [
    {
     "name": "stdout",
     "output_type": "stream",
     "text": [
      "enter M, N, T10,12,13\n",
      "gettig called\n"
     ]
    },
    {
     "data": {
      "text/plain": [
       "35"
      ]
     },
     "execution_count": 49,
     "metadata": {},
     "output_type": "execute_result"
    }
   ],
   "source": [
    "def sole(m,n,t):\n",
    "    # some time consuming activity\n",
    "    print(\"gettig called\")\n",
    "    return int(m)+int(n)+int(t)\n",
    "\n",
    "# this function is getting called 1M times with 200 different combinations of values\n",
    "# i.e 1 value can be called more than 100 times, it can save a lot of time if we just store the combinaion of arguments\n",
    "# in a dictionary, assuming sole is a pure function, same o/p for same argument,.\n",
    "#  implement the use case\n",
    "\n",
    "combination_bag = {}\n",
    "m,n,t = input(\"enter M, N, T\").split(\",\")\n",
    "combination_bag.setdefault((m,n,t), sole(m,n,t))\n",
    "\n",
    "# i.e if the key is present in the combination_bag then use it else only call the sole method.\n"
   ]
  },
  {
   "cell_type": "code",
   "execution_count": 50,
   "id": "dd4df272",
   "metadata": {},
   "outputs": [
    {
     "data": {
      "text/plain": [
       "35"
      ]
     },
     "execution_count": 50,
     "metadata": {},
     "output_type": "execute_result"
    }
   ],
   "source": [
    "combination_bag[('10', '12', '13')]"
   ]
  },
  {
   "cell_type": "code",
   "execution_count": 52,
   "id": "39da113b",
   "metadata": {},
   "outputs": [
    {
     "name": "stdout",
     "output_type": "stream",
     "text": [
      "row? A\n",
      "col? 10\n",
      "value? 20\n"
     ]
    }
   ],
   "source": [
    "# sample program to use dict as a spreadsheet\n",
    "\n",
    "spreadsheet_dict = {}\n",
    "def spreadsheet_store(row, col, value):\n",
    "    spreadsheet_dict[(row, int(col))] = int(value)\n",
    "\n",
    "def spreadsheet_get(row, col):\n",
    "    return spreadsheet_dict.get((row, int(col)), None )\n",
    "\n",
    "spreadsheet_store(input(\"row? \"), input(\"col? \"), input(\"value? \"))"
   ]
  },
  {
   "cell_type": "code",
   "execution_count": 53,
   "id": "3dd1e071",
   "metadata": {},
   "outputs": [
    {
     "data": {
      "text/plain": [
       "'20'"
      ]
     },
     "execution_count": 53,
     "metadata": {},
     "output_type": "execute_result"
    }
   ],
   "source": [
    "spreadsheet_get(\"A\", 10)"
   ]
  },
  {
   "cell_type": "markdown",
   "id": "6fbadf34",
   "metadata": {},
   "source": [
    "### Lab 7"
   ]
  },
  {
   "cell_type": "code",
   "execution_count": 54,
   "id": "c22e6f8f",
   "metadata": {},
   "outputs": [],
   "source": [
    "# use the Moby dick's cleaned file and count the number of times each word occur and report the most and least common words"
   ]
  },
  {
   "cell_type": "code",
   "execution_count": 56,
   "id": "4fe7f067",
   "metadata": {},
   "outputs": [
    {
     "name": "stdout",
     "output_type": "stream",
     "text": [
      "total 792\r\n",
      "-rwxr-xr-x 1 vkrishna123 vkrishna123   1507 Apr 20  2018  \u001b[0m\u001b[01;32mmoby_01.txt\u001b[0m*\r\n",
      "-rw-r--r-- 1 vkrishna123 vkrishna123   3919 Apr 20  2018  lab_05.txt\r\n",
      "-rw-rw-r-- 1 vkrishna123 vkrishna123  31024 Jul  7 12:47 'chap_5 list_tuple_sets.ipynb'\r\n",
      "-rw-rw-r-- 1 vkrishna123 vkrishna123     60 Jul  9 18:55  new_print_check.txt\r\n",
      "-rw-rw-r-- 1 vkrishna123 vkrishna123  34898 Jul 13 12:00 'chapter_6 Strings.ipynb'\r\n",
      "-rw-rw-r-- 1 vkrishna123 vkrishna123 701395 Jul 13 12:02  Untitled.ipynb\r\n",
      "-rw-rw-r-- 1 vkrishna123 vkrishna123   1456 Jul 13 14:18  moby_01_cleaned_file.txt\r\n",
      "-rw-rw-r-- 1 vkrishna123 vkrishna123   1456 Jul 13 14:18  moby_01_word_each_line.txt\r\n",
      "-rw-rw-r-- 1 vkrishna123 vkrishna123  12808 Jul 14 13:57  chapter_7_dictionary.ipynb\r\n"
     ]
    }
   ],
   "source": [
    "%ls -lrt"
   ]
  },
  {
   "cell_type": "code",
   "execution_count": 57,
   "id": "97d9f2a5",
   "metadata": {},
   "outputs": [
    {
     "name": "stdout",
     "output_type": "stream",
     "text": [
      "call me ishmael some years agonever mind how long precisely having little or no money in my purse and nothing particular to interest me on shore i thought i would sail about a little and see the watery part of the world it is a way i have of driving off the spleen and regulating the circulation whenever i find myself growing grim about the mouth whenever it is a damp drizzly november in my soul whenever i find myself involuntarily pausing before coffin warehouses and bringing up the rear of every funeral i meet and especially whenever my hypos get such an upper hand of methat it requires a strong moral principle to prevent me fromde liberately stepping into the street and methodically knocking peoples hats offthen i account it high time to get to seaas soon as i can this is my substitute for pistol and ball with a philosophical flourish cato throws himself upon his swordi quietly take to the ship there is nothing surprising in this if they but knew it almost all men in their degree some timeor other cherish very nearly the same feelings towards the ocean with me there now is your insular city of the man hattoes belted round by where as indian isles by coral reefs commerce surrounds it with her surfright and left the streets take you water ward its extreme downtownis the battery where that noble mole is washed by waves and cooled by breezes which a few hours previous were out of sight of land look at the crowds of water gazers there\r\n"
     ]
    }
   ],
   "source": [
    "%cat moby_01_cleaned_file.txt"
   ]
  },
  {
   "cell_type": "code",
   "execution_count": 81,
   "id": "d0090a79",
   "metadata": {},
   "outputs": [
    {
     "name": "stdout",
     "output_type": "stream",
     "text": [
      "{'call': 1, 'me': 4, 'ishmael': 1, 'some': 2, 'years': 1, 'agonever': 1, 'mind': 1, 'how': 1, 'long': 1, 'precisely': 1, 'having': 1, 'little': 2, 'or': 1, 'no': 1, 'money': 1, 'in': 4, 'my': 4, 'purse': 1, 'and': 9, 'nothing': 2, 'particular': 1, 'to': 5, 'interest': 1, 'on': 1, 'shore': 1, 'i': 8, 'thought': 1, 'would': 1, 'sail': 1, 'about': 2, 'a': 6, 'see': 1, 'the': 14, 'watery': 1, 'part': 1, 'of': 8, 'world': 1, 'it': 6, 'is': 6, 'way': 1, 'have': 1, 'driving': 1, 'off': 1, 'spleen': 1, 'regulating': 1, 'circulation': 1, 'whenever': 4, 'find': 2, 'myself': 2, 'growing': 1, 'grim': 1, 'mouth': 1, 'damp': 1, 'drizzly': 1, 'november': 1, 'soul': 1, 'involuntarily': 1, 'pausing': 1, 'before': 1, 'coffin': 1, 'warehouses': 1, 'bringing': 1, 'up': 1, 'rear': 1, 'every': 1, 'funeral': 1, 'meet': 1, 'especially': 1, 'hypos': 1, 'get': 2, 'such': 1, 'an': 1, 'upper': 1, 'hand': 1, 'methat': 1, 'requires': 1, 'strong': 1, 'moral': 1, 'principle': 1, 'prevent': 1, 'fromde': 1, 'liberately': 1, 'stepping': 1, 'into': 1, 'street': 1, 'methodically': 1, 'knocking': 1, 'peoples': 1, 'hats': 1, 'offthen': 1, 'account': 1, 'high': 1, 'time': 1, 'seaas': 1, 'soon': 1, 'as': 2, 'can': 1, 'this': 2, 'substitute': 1, 'for': 1, 'pistol': 1, 'ball': 1, 'with': 3, 'philosophical': 1, 'flourish': 1, 'cato': 1, 'throws': 1, 'himself': 1, 'upon': 1, 'his': 1, 'swordi': 1, 'quietly': 1, 'take': 2, 'ship': 1, 'there': 3, 'surprising': 1, 'if': 1, 'they': 1, 'but': 1, 'knew': 1, 'almost': 1, 'all': 1, 'men': 1, 'their': 1, 'degree': 1, 'timeor': 1, 'other': 1, 'cherish': 1, 'very': 1, 'nearly': 1, 'same': 1, 'feelings': 1, 'towards': 1, 'ocean': 1, 'now': 1, 'your': 1, 'insular': 1, 'city': 1, 'man': 1, 'hattoes': 1, 'belted': 1, 'round': 1, 'by': 4, 'where': 2, 'indian': 1, 'isles': 1, 'coral': 1, 'reefs': 1, 'commerce': 1, 'surrounds': 1, 'her': 1, 'surfright': 1, 'left': 1, 'streets': 1, 'you': 1, 'water': 2, 'ward': 1, 'its': 1, 'extreme': 1, 'downtownis': 1, 'battery': 1, 'that': 1, 'noble': 1, 'mole': 1, 'washed': 1, 'waves': 1, 'cooled': 1, 'breezes': 1, 'which': 1, 'few': 1, 'hours': 1, 'previous': 1, 'were': 1, 'out': 1, 'sight': 1, 'land': 1, 'look': 1, 'at': 1, 'crowds': 1, 'gazers': 1}\n"
     ]
    }
   ],
   "source": [
    "word_bags = {}\n",
    "\n",
    "with open(\"moby_01_cleaned_file.txt\", \"r\") as infile:\n",
    "    word_list = infile.readline().rstrip(\"\\n\").split(\" \")\n",
    "    for word in word_list:\n",
    "        word_bags.setdefault(word, word_list.count(word)) # can also use get(..) +1\n",
    "print(word_bags)"
   ]
  },
  {
   "cell_type": "code",
   "execution_count": 79,
   "id": "4ff3141e",
   "metadata": {},
   "outputs": [],
   "source": [
    "# to extract max and min values\n",
    "word_bags_list = list(word_bags.items())\n",
    "sortedlist = sorted(word_bags_list, key=lambda item: item[1], reverse=True)"
   ]
  },
  {
   "cell_type": "code",
   "execution_count": 82,
   "id": "b9d06bf7",
   "metadata": {},
   "outputs": [
    {
     "name": "stdout",
     "output_type": "stream",
     "text": [
      "most common:- ('the', 14) and least common:- ('gazers', 1)\n"
     ]
    }
   ],
   "source": [
    "print(f\"most common:- {sortedlist[0]} and least common:- {sortedlist[-1]}\")"
   ]
  },
  {
   "cell_type": "code",
   "execution_count": 88,
   "id": "34cdacb4",
   "metadata": {},
   "outputs": [
    {
     "data": {
      "text/plain": [
       "(('the', 14), ('call', 1))"
      ]
     },
     "execution_count": 88,
     "metadata": {},
     "output_type": "execute_result"
    }
   ],
   "source": [
    "max(word_bags_list, key=lambda item: item[1]),min(word_bags_list, key=lambda item: item[1])"
   ]
  },
  {
   "cell_type": "code",
   "execution_count": null,
   "id": "7b6e4cad",
   "metadata": {},
   "outputs": [],
   "source": []
  }
 ],
 "metadata": {
  "kernelspec": {
   "display_name": "Python 3",
   "language": "python",
   "name": "python3"
  },
  "language_info": {
   "codemirror_mode": {
    "name": "ipython",
    "version": 3
   },
   "file_extension": ".py",
   "mimetype": "text/x-python",
   "name": "python",
   "nbconvert_exporter": "python",
   "pygments_lexer": "ipython3",
   "version": "3.6.9"
  }
 },
 "nbformat": 4,
 "nbformat_minor": 5
}
